{
 "cells": [
  {
   "cell_type": "code",
   "execution_count": 33,
   "metadata": {},
   "outputs": [],
   "source": [
    "class Homosapien():\n",
    "    # Class Object attributes\n",
    "    species = 'Human'\n",
    "    legs = 2\n",
    "    arms = 2\n",
    "    \n",
    "    def __init__(self):\n",
    "        \n",
    "        print('Homosapien created')\n",
    "        "
   ]
  },
  {
   "cell_type": "code",
   "execution_count": 39,
   "metadata": {},
   "outputs": [],
   "source": [
    "class Samarjot(Homosapien):\n",
    "    #  Class Object attributes\n",
    "    gender = 'male'\n",
    "    \n",
    "    # Instance attributes\n",
    "    # Better use self in place of instance since it is conventional, but using instance here just for the sake of proper \n",
    "    # understanding\n",
    "    def __init__(instance,year,body_type = 'fat',odour = 'awful'):\n",
    "        Homosapien.__init__(instance)\n",
    "        instance.age = year - 2001\n",
    "        instance.qual = instance.age - 7 if instance.age <= 19 and not instance.age > 23 else f'{(instance.age % 5)+1}th year Btech.' \n",
    "        instance.body = body_type if instance.age <= 19 else \"Unknown\"\n",
    "        instance.smell = odour if instance.age <= 19 else \"Unknown\" \n",
    "    # defining methods\n",
    "    \n",
    "    def mosambi(instance):\n",
    "        if instance.age <= 19:\n",
    "            print(f\"Samar's body is {instance.body} and smell is {instance.smell}, which entitles him to the name Mosambi.\")\n",
    "        else:\n",
    "            print(f\"His state of mosambigiri is unknown, but his age is probably {instance.age}\")"
   ]
  },
  {
   "cell_type": "code",
   "execution_count": 107,
   "metadata": {},
   "outputs": [
    {
     "name": "stdout",
     "output_type": "stream",
     "text": [
      "Homosapien created\n"
     ]
    }
   ],
   "source": [
    "samar = Samarjot(2021)"
   ]
  },
  {
   "cell_type": "code",
   "execution_count": 4,
   "metadata": {},
   "outputs": [
    {
     "data": {
      "text/plain": [
       "(2, 2)"
      ]
     },
     "execution_count": 4,
     "metadata": {},
     "output_type": "execute_result"
    }
   ],
   "source": [
    "# Using Inheritance\n",
    "samar.legs,samar.arms"
   ]
  },
  {
   "cell_type": "code",
   "execution_count": 5,
   "metadata": {},
   "outputs": [
    {
     "data": {
      "text/plain": [
       "__main__.Samarjot"
      ]
     },
     "execution_count": 5,
     "metadata": {},
     "output_type": "execute_result"
    }
   ],
   "source": [
    "Samarjot"
   ]
  },
  {
   "cell_type": "code",
   "execution_count": 6,
   "metadata": {},
   "outputs": [
    {
     "data": {
      "text/plain": [
       "'Human'"
      ]
     },
     "execution_count": 6,
     "metadata": {},
     "output_type": "execute_result"
    }
   ],
   "source": [
    "Samarjot.species"
   ]
  },
  {
   "cell_type": "code",
   "execution_count": 7,
   "metadata": {},
   "outputs": [
    {
     "name": "stdout",
     "output_type": "stream",
     "text": [
      "Homosapien created\n",
      "His state of mosambigiri is unknown, but his age is probably 20\n"
     ]
    },
    {
     "data": {
      "text/plain": [
       "(None, '1th year Btech.')"
      ]
     },
     "execution_count": 7,
     "metadata": {},
     "output_type": "execute_result"
    }
   ],
   "source": [
    "# If we don't plug in instance attributes values, we are gonna get TypeError\n",
    "sam = Samarjot(2021)\n",
    "sam.mosambi(),sam.qual"
   ]
  },
  {
   "cell_type": "code",
   "execution_count": 8,
   "metadata": {},
   "outputs": [
    {
     "data": {
      "text/plain": [
       "(int, 20)"
      ]
     },
     "execution_count": 8,
     "metadata": {},
     "output_type": "execute_result"
    }
   ],
   "source": [
    "type(sam.age),sam.age"
   ]
  },
  {
   "cell_type": "code",
   "execution_count": 9,
   "metadata": {},
   "outputs": [
    {
     "name": "stdout",
     "output_type": "stream",
     "text": [
      "Homosapien created\n",
      "His state of mosambigiri is unknown, but his age is probably 20\n"
     ]
    }
   ],
   "source": [
    "Samarjot(2021).mosambi()"
   ]
  },
  {
   "cell_type": "code",
   "execution_count": 10,
   "metadata": {},
   "outputs": [],
   "source": [
    "# Test to check if more than 1 __init__ functions can be used in a single class\n",
    "class Cat():\n",
    "    \n",
    "    def __init__(self,age):\n",
    "        print(\"Instance 1 created!\")\n",
    "    \n",
    "    def __init__(self2,name):\n",
    "        self2.name = name\n",
    "        print(self2.name + \" is created via self2\")"
   ]
  },
  {
   "cell_type": "code",
   "execution_count": 11,
   "metadata": {},
   "outputs": [
    {
     "name": "stdout",
     "output_type": "stream",
     "text": [
      "Billo is created via self2\n"
     ]
    }
   ],
   "source": [
    "cat = Cat(\"Billo\")"
   ]
  },
  {
   "cell_type": "code",
   "execution_count": 16,
   "metadata": {},
   "outputs": [
    {
     "name": "stdout",
     "output_type": "stream",
     "text": [
      "Homosapien created\n"
     ]
    }
   ],
   "source": [
    "samar = Samarjot(2025)"
   ]
  },
  {
   "cell_type": "code",
   "execution_count": 17,
   "metadata": {},
   "outputs": [
    {
     "name": "stdout",
     "output_type": "stream",
     "text": [
      "His state of mosambigiri is unknown, but his age is probably 24\n"
     ]
    }
   ],
   "source": [
    "samar.mosambi()"
   ]
  },
  {
   "cell_type": "markdown",
   "metadata": {},
   "source": [
    "# Employee Class"
   ]
  },
  {
   "cell_type": "code",
   "execution_count": 83,
   "metadata": {},
   "outputs": [],
   "source": [
    "class Employee(Homosapien):\n",
    "    '''Common base class for all employees'''\n",
    "    empCount = 0\n",
    "\n",
    "    def __init__(self, name, salary = 0):\n",
    "        self.name = name\n",
    "        self.salary = salary  \n",
    "        Employee.empCount += 1\n",
    "   \n",
    "    def displayCount(self):\n",
    "        print(\"Total Employee : {}\".format(Employee.empCount))\n",
    "\n",
    "    def __str__(self):\n",
    "        return f\"Name : {self.name}, Salary: {self.salary}\"\n",
    "    \n",
    "    def promotion(self,increment):\n",
    "        self.salary += increment\n",
    "    def demotion(self,decrement):\n",
    "        self.salary -= decrement"
   ]
  },
  {
   "cell_type": "code",
   "execution_count": 84,
   "metadata": {},
   "outputs": [],
   "source": [
    "tarun = Employee('Tarun',15000) "
   ]
  },
  {
   "cell_type": "code",
   "execution_count": 85,
   "metadata": {},
   "outputs": [
    {
     "data": {
      "text/plain": [
       "True"
      ]
     },
     "execution_count": 85,
     "metadata": {},
     "output_type": "execute_result"
    }
   ],
   "source": [
    "isinstance(tarun,Employee)"
   ]
  },
  {
   "cell_type": "code",
   "execution_count": 50,
   "metadata": {},
   "outputs": [
    {
     "name": "stdout",
     "output_type": "stream",
     "text": [
      "Name : Tarun, Salary: 15000\n"
     ]
    }
   ],
   "source": [
    "print(tarun)"
   ]
  },
  {
   "cell_type": "code",
   "execution_count": 51,
   "metadata": {},
   "outputs": [
    {
     "name": "stdout",
     "output_type": "stream",
     "text": [
      "Total Employee : 1\n"
     ]
    }
   ],
   "source": [
    "tarun.displayCount()"
   ]
  },
  {
   "cell_type": "code",
   "execution_count": 52,
   "metadata": {},
   "outputs": [],
   "source": [
    "tarun.promotion(5000)"
   ]
  },
  {
   "cell_type": "code",
   "execution_count": 53,
   "metadata": {},
   "outputs": [
    {
     "name": "stdout",
     "output_type": "stream",
     "text": [
      "Name : Tarun, Salary: 20000\n"
     ]
    }
   ],
   "source": [
    "print(tarun)"
   ]
  },
  {
   "cell_type": "code",
   "execution_count": 54,
   "metadata": {},
   "outputs": [],
   "source": [
    "tarun.demotion(2000)"
   ]
  },
  {
   "cell_type": "code",
   "execution_count": 55,
   "metadata": {},
   "outputs": [
    {
     "name": "stdout",
     "output_type": "stream",
     "text": [
      "Name : Tarun, Salary: 18000 , Employess:  1\n"
     ]
    }
   ],
   "source": [
    "print(tarun,\", Employess: \",Employee.empCount)"
   ]
  },
  {
   "cell_type": "code",
   "execution_count": 56,
   "metadata": {},
   "outputs": [
    {
     "data": {
      "text/plain": [
       "True"
      ]
     },
     "execution_count": 56,
     "metadata": {},
     "output_type": "execute_result"
    }
   ],
   "source": [
    "# You need to type attribute in the form of string in these special functions to interact with attributes\n",
    "hasattr(tarun, 'salary')"
   ]
  },
  {
   "cell_type": "code",
   "execution_count": 57,
   "metadata": {},
   "outputs": [
    {
     "data": {
      "text/plain": [
       "18000"
      ]
     },
     "execution_count": 57,
     "metadata": {},
     "output_type": "execute_result"
    }
   ],
   "source": [
    "getattr(tarun, 'salary')"
   ]
  },
  {
   "cell_type": "code",
   "execution_count": 58,
   "metadata": {},
   "outputs": [
    {
     "data": {
      "text/plain": [
       "21000"
      ]
     },
     "execution_count": 58,
     "metadata": {},
     "output_type": "execute_result"
    }
   ],
   "source": [
    "setattr(tarun, 'salary', 21000)\n",
    "getattr(tarun, 'salary')"
   ]
  },
  {
   "cell_type": "code",
   "execution_count": 59,
   "metadata": {},
   "outputs": [],
   "source": [
    "delattr(tarun, 'salary')\n"
   ]
  },
  {
   "cell_type": "code",
   "execution_count": 60,
   "metadata": {},
   "outputs": [
    {
     "data": {
      "text/plain": [
       "False"
      ]
     },
     "execution_count": 60,
     "metadata": {},
     "output_type": "execute_result"
    }
   ],
   "source": [
    "hasattr(tarun, 'salary')"
   ]
  },
  {
   "cell_type": "code",
   "execution_count": 61,
   "metadata": {},
   "outputs": [
    {
     "data": {
      "text/plain": [
       "'Tarun'"
      ]
     },
     "execution_count": 61,
     "metadata": {},
     "output_type": "execute_result"
    }
   ],
   "source": [
    "# These operations can also be performed without the use of above functions, but there is no alternative for hasattr() boolean \n",
    "# function\n",
    "\n",
    "tarun.name\n"
   ]
  },
  {
   "cell_type": "code",
   "execution_count": 62,
   "metadata": {},
   "outputs": [],
   "source": [
    "tarun.name = \"Tarunveer Singh\""
   ]
  },
  {
   "cell_type": "code",
   "execution_count": 63,
   "metadata": {},
   "outputs": [
    {
     "data": {
      "text/plain": [
       "'Tarunveer Singh'"
      ]
     },
     "execution_count": 63,
     "metadata": {},
     "output_type": "execute_result"
    }
   ],
   "source": [
    "tarun.name"
   ]
  },
  {
   "cell_type": "code",
   "execution_count": 64,
   "metadata": {},
   "outputs": [],
   "source": [
    "del tarun.name "
   ]
  },
  {
   "cell_type": "code",
   "execution_count": 65,
   "metadata": {},
   "outputs": [
    {
     "data": {
      "text/plain": [
       "False"
      ]
     },
     "execution_count": 65,
     "metadata": {},
     "output_type": "execute_result"
    }
   ],
   "source": [
    "hasattr(tarun, 'name')"
   ]
  },
  {
   "cell_type": "code",
   "execution_count": 66,
   "metadata": {},
   "outputs": [],
   "source": [
    "tarun = Employee('Tarun',15000)"
   ]
  },
  {
   "cell_type": "code",
   "execution_count": 67,
   "metadata": {},
   "outputs": [
    {
     "name": "stdout",
     "output_type": "stream",
     "text": [
      "Class name = Employee,\n",
      "namespace = {'name': 'Tarun', 'salary': 15000},\n",
      "docstring = Common base class for all employees,\n",
      "module_name = __main__\n"
     ]
    }
   ],
   "source": [
    "print(f\"Class name = {Employee.__name__},\\nnamespace = {tarun.__dict__},\\ndocstring = {tarun.__doc__},\\nmodule_name = {tarun.__module__}\")\n",
    "# __module__ == __main__ in interactive mode"
   ]
  },
  {
   "cell_type": "code",
   "execution_count": 68,
   "metadata": {},
   "outputs": [
    {
     "data": {
      "text/plain": [
       "(__main__.Samarjot, __main__.Homosapien)"
      ]
     },
     "execution_count": 68,
     "metadata": {},
     "output_type": "execute_result"
    }
   ],
   "source": [
    "Employee.__bases__"
   ]
  },
  {
   "cell_type": "code",
   "execution_count": 69,
   "metadata": {},
   "outputs": [
    {
     "data": {
      "text/plain": [
       "(NoneType, str)"
      ]
     },
     "execution_count": 69,
     "metadata": {},
     "output_type": "execute_result"
    }
   ],
   "source": [
    "type(None),type(\"\")"
   ]
  },
  {
   "cell_type": "code",
   "execution_count": 70,
   "metadata": {},
   "outputs": [
    {
     "data": {
      "text/plain": [
       "'Employee'"
      ]
     },
     "execution_count": 70,
     "metadata": {},
     "output_type": "execute_result"
    }
   ],
   "source": [
    "tarun.__class__.__name__"
   ]
  },
  {
   "cell_type": "markdown",
   "metadata": {},
   "source": [
    "# Note − Ideally, you should define your classes in separate file, then you should import them in your main program file using import statement."
   ]
  },
  {
   "cell_type": "code",
   "execution_count": 108,
   "metadata": {},
   "outputs": [],
   "source": [
    "class Employee(Samarjot,Homosapien):\n",
    "    '''Common base class for all employees'''\n",
    "    empCount = 0\n",
    "\n",
    "    def __init__(self, name, salary = 0):\n",
    "        self.name = name\n",
    "        self.salary = salary  \n",
    "        Employee.empCount += 1\n",
    "   \n",
    "    def displayCount(self):\n",
    "        print(\"Total Employee : {}\".format(Employee.empCount))\n",
    "\n",
    "    def __str__(self):\n",
    "        return f\"Name : {self.name}, Salary: {self.salary}\"\n",
    "    \n",
    "    def promotion(self,increment):\n",
    "        self.salary += increment\n",
    "    def demotion(self,decrement):\n",
    "        self.salary -= decrement\n",
    "        \n",
    "    def __repr__(self):\n",
    "        return self.salary\n",
    "    \n",
    "    def __cmp__(self,x):\n",
    "        return self == x"
   ]
  },
  {
   "cell_type": "code",
   "execution_count": 109,
   "metadata": {},
   "outputs": [
    {
     "data": {
      "text/plain": [
       "True"
      ]
     },
     "execution_count": 109,
     "metadata": {},
     "output_type": "execute_result"
    }
   ],
   "source": [
    "issubclass(Employee,Homosapien)"
   ]
  },
  {
   "cell_type": "code",
   "execution_count": 110,
   "metadata": {},
   "outputs": [],
   "source": [
    "tarun = Employee(\"Tarun\", 20000)"
   ]
  },
  {
   "cell_type": "code",
   "execution_count": 111,
   "metadata": {},
   "outputs": [
    {
     "data": {
      "text/plain": [
       "True"
      ]
     },
     "execution_count": 111,
     "metadata": {},
     "output_type": "execute_result"
    }
   ],
   "source": [
    "isinstance(tarun,Employee)"
   ]
  },
  {
   "cell_type": "code",
   "execution_count": 112,
   "metadata": {},
   "outputs": [
    {
     "ename": "TypeError",
     "evalue": "__repr__ returned non-string (type int)",
     "output_type": "error",
     "traceback": [
      "\u001b[1;31m---------------------------------------------------------------------------\u001b[0m",
      "\u001b[1;31mTypeError\u001b[0m                                 Traceback (most recent call last)",
      "\u001b[1;32m<ipython-input-112-2466dbc60a42>\u001b[0m in \u001b[0;36m<module>\u001b[1;34m\u001b[0m\n\u001b[1;32m----> 1\u001b[1;33m \u001b[0mrepr\u001b[0m\u001b[1;33m(\u001b[0m\u001b[0mtarun\u001b[0m\u001b[1;33m)\u001b[0m\u001b[1;33m\u001b[0m\u001b[1;33m\u001b[0m\u001b[0m\n\u001b[0m",
      "\u001b[1;31mTypeError\u001b[0m: __repr__ returned non-string (type int)"
     ]
    }
   ],
   "source": [
    "repr(tarun)"
   ]
  },
  {
   "cell_type": "code",
   "execution_count": 113,
   "metadata": {},
   "outputs": [
    {
     "ename": "NameError",
     "evalue": "name 'cmp' is not defined",
     "output_type": "error",
     "traceback": [
      "\u001b[1;31m---------------------------------------------------------------------------\u001b[0m",
      "\u001b[1;31mNameError\u001b[0m                                 Traceback (most recent call last)",
      "\u001b[1;32m<ipython-input-113-a3b397738f81>\u001b[0m in \u001b[0;36m<module>\u001b[1;34m\u001b[0m\n\u001b[1;32m----> 1\u001b[1;33m \u001b[0mcmp\u001b[0m\u001b[1;33m(\u001b[0m\u001b[0mtarun\u001b[0m\u001b[1;33m,\u001b[0m\u001b[0msamar\u001b[0m\u001b[1;33m)\u001b[0m\u001b[1;33m\u001b[0m\u001b[1;33m\u001b[0m\u001b[0m\n\u001b[0m",
      "\u001b[1;31mNameError\u001b[0m: name 'cmp' is not defined"
     ]
    }
   ],
   "source": [
    "cmp(tarun,samar)"
   ]
  },
  {
   "cell_type": "code",
   "execution_count": null,
   "metadata": {},
   "outputs": [],
   "source": []
  }
 ],
 "metadata": {
  "kernelspec": {
   "display_name": "Python 3",
   "language": "python",
   "name": "python3"
  },
  "language_info": {
   "codemirror_mode": {
    "name": "ipython",
    "version": 3
   },
   "file_extension": ".py",
   "mimetype": "text/x-python",
   "name": "python",
   "nbconvert_exporter": "python",
   "pygments_lexer": "ipython3",
   "version": "3.8.5"
  }
 },
 "nbformat": 4,
 "nbformat_minor": 4
}
