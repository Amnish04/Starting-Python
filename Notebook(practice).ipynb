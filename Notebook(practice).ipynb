{
 "cells": [
  {
   "cell_type": "code",
   "execution_count": 3,
   "metadata": {},
   "outputs": [
    {
     "name": "stdout",
     "output_type": "stream",
     "text": [
      "Bob is a maniac\n"
     ]
    }
   ],
   "source": [
    "print(f\"Bob is a {'maniac'}\")"
   ]
  },
  {
   "cell_type": "code",
   "execution_count": 5,
   "metadata": {},
   "outputs": [
    {
     "name": "stdout",
     "output_type": "stream",
     "text": [
      "Bob is a joke.\n"
     ]
    }
   ],
   "source": [
    "print(f\"Bob is {'a'} joke.\")"
   ]
  },
  {
   "cell_type": "code",
   "execution_count": 6,
   "metadata": {},
   "outputs": [
    {
     "name": "stdout",
     "output_type": "stream",
     "text": [
      "Bob is mfcking bastard \n"
     ]
    }
   ],
   "source": [
    "a= 'mfcking'\n",
    "print(f\"Bob is {a} {'bastard'} \")"
   ]
  },
  {
   "cell_type": "code",
   "execution_count": 7,
   "metadata": {},
   "outputs": [
    {
     "name": "stdout",
     "output_type": "stream",
     "text": [
      "Bob is a fcking bastard.\n"
     ]
    }
   ],
   "source": [
    "print(f\"Bob is a {a[1:]} bastard.\")"
   ]
  },
  {
   "cell_type": "code",
   "execution_count": 19,
   "metadata": {},
   "outputs": [
    {
     "name": "stdout",
     "output_type": "stream",
     "text": [
      "[\"BOB'S\", 'DICK', 'IS', '6.70', 'INHCES.', 'ITS', 'NOT', 'A', 'JOKE.']\n"
     ]
    }
   ],
   "source": [
    "b=6.6969\n",
    "d='dick'\n",
    "i='sechni'\n",
    "print(f\"\\t\\t\\tBob's {d} is {b:1.2f} {i[::-1]}.\\n\\t\\t\\tIts not a joke.\".upper().split())"
   ]
  },
  {
   "cell_type": "code",
   "execution_count": 30,
   "metadata": {
    "scrolled": true
   },
   "outputs": [
    {
     "name": "stdout",
     "output_type": "stream",
     "text": [
      "\t\t\t\t\tBOB'S DICK IS 6.70 INHCES.\n",
      "\t\t\t\t\tITS NOT A JOKE.\n",
      "\t\t\t\t\tBOB'S DICK IS 6.70 INHCES.\n",
      "\t\t\t\t\tITS NOT A JOKE.\n",
      "\t\t\t\t\tBOB'S DICK IS 6.70 INHCES.\n",
      "\t\t\t\t\tITS NOT A JOKE.\n",
      "\t\t\t\t\tBOB'S DICK IS 6.70 INHCES.\n",
      "\t\t\t\t\tITS NOT A JOKE.\n",
      "\t\t\t\t\tBOB'S DICK IS 6.70 INHCES.\n",
      "\t\t\t\t\tITS NOT A JOKE.\n",
      "\t\t\t\t\tBOB'S DICK IS 6.70 INHCES.\n",
      "\t\t\t\t\tITS NOT A JOKE.\n",
      "\t\t\t\t\tBOB'S DICK IS 6.70 INHCES.\n",
      "\t\t\t\t\tITS NOT A JOKE.\n",
      "\t\t\t\t\tBOB'S DICK IS 6.70 INHCES.\n",
      "\t\t\t\t\tITS NOT A JOKE.\n",
      "\t\t\t\t\tBOB'S DICK IS 6.70 INHCES.\n",
      "\t\t\t\t\tITS NOT A JOKE.\n",
      "\t\t\t\t\tBOB'S DICK IS 6.70 INHCES.\n",
      "\t\t\t\t\tITS NOT A JOKE.\n",
      "\n"
     ]
    }
   ],
   "source": [
    "b=6.6969\n",
    "d='dick'\n",
    "i='sechni'\n",
    "print(10*f\"\\t\\t\\t\\t\\tBob's {d} is {b:1.2f} {i[::-1]}.\\n\\t\\t\\t\\t\\tIts not a joke.\\n\".upper())"
   ]
  },
  {
   "cell_type": "code",
   "execution_count": 11,
   "metadata": {},
   "outputs": [
    {
     "name": "stdout",
     "output_type": "stream",
     "text": [
      "Don't ['wish', 'death', 'on', 'me.']\n",
      "Don't ['wish', 'death', 'on', 'me.']\n",
      "\n",
      "Don't wish death on me.\n",
      "Don't wish death on me.\n",
      "\n",
      "Don't ['wish', 'death', 'on', 'me.']\n",
      "Don't ['wish', 'death', 'on', 'me.']\n",
      "Don't wish death on me.\n",
      "Don't wish death on me.\n",
      "\n"
     ]
    }
   ],
   "source": [
    "string= \"Many men wish death on me.\"\n",
    "a_list= string.split()\n",
    "print(2*f\"Don't {a_list[2:]}\\n\")\n",
    "print(2*f\"Don't {string[9:]}\\n\")           \n",
    "\n",
    "#What's the solution??? Of this unneeded line skip.\n",
    "\n",
    "print(f\"Don't {a_list[2:]}\\n\" + f\"Don't {a_list[2:]}\")\n",
    "print(2*f\"Don't {string[9:]}\\n\")      "
   ]
  },
  {
   "cell_type": "code",
   "execution_count": 21,
   "metadata": {},
   "outputs": [
    {
     "name": "stdout",
     "output_type": "stream",
     "text": [
      "10\n"
     ]
    }
   ],
   "source": [
    "print(len(\"Many men w\")) #use this to help yourself in slicing a large string"
   ]
  },
  {
   "cell_type": "code",
   "execution_count": 3,
   "metadata": {},
   "outputs": [
    {
     "name": "stdout",
     "output_type": "stream",
     "text": [
      "9.3\n"
     ]
    }
   ],
   "source": [
    "import IPython.display\n",
    "boo = True\n",
    "while boo:\n",
    "    userInput = input()\n",
    "    try:\n",
    "        val = int(userInput)\n",
    "        boo = False\n",
    "    except ValueError:\n",
    "        try:\n",
    "            val = float(userInput)\n",
    "            boo = False\n",
    "        except ValueError:\n",
    "            print(\"That's not an int!\")\n",
    "            IPython.display.clear_output()"
   ]
  },
  {
   "cell_type": "code",
   "execution_count": 10,
   "metadata": {},
   "outputs": [
    {
     "data": {
      "text/plain": [
       "2"
      ]
     },
     "execution_count": 10,
     "metadata": {},
     "output_type": "execute_result"
    }
   ],
   "source": [
    "def greatest_int(x):\n",
    "    return int(x//1)\n",
    "greatest_int(5/2)"
   ]
  },
  {
   "cell_type": "code",
   "execution_count": 11,
   "metadata": {},
   "outputs": [
    {
     "data": {
      "text/plain": [
       "5"
      ]
     },
     "execution_count": 11,
     "metadata": {},
     "output_type": "execute_result"
    }
   ],
   "source": [
    "def least_int(x):\n",
    "    return int(x//1) + 1\n",
    "least_int(4.1)"
   ]
  },
  {
   "cell_type": "code",
   "execution_count": 33,
   "metadata": {},
   "outputs": [],
   "source": [
    "def hcf(a,b):\n",
    "    a_facts = [1,a]\n",
    "    b_facts = [1,b]\n",
    "    common_facts = []\n",
    "    for i in range(2,a):\n",
    "        if a % i == 0:\n",
    "            a_facts.append(i)\n",
    "    for i in range(2,b):\n",
    "        if b % i == 0:\n",
    "            b_facts.append(i)\n",
    "    for i in a_facts:\n",
    "        if i in b_facts:\n",
    "            common_facts.append(i)\n",
    "    return max(common_facts)"
   ]
  },
  {
   "cell_type": "code",
   "execution_count": 38,
   "metadata": {},
   "outputs": [
    {
     "data": {
      "text/plain": [
       "11"
      ]
     },
     "execution_count": 38,
     "metadata": {},
     "output_type": "execute_result"
    }
   ],
   "source": [
    "hcf(11,110)"
   ]
  },
  {
   "cell_type": "code",
   "execution_count": 3,
   "metadata": {},
   "outputs": [
    {
     "ename": "SyntaxError",
     "evalue": "invalid syntax (<ipython-input-3-8fe20c702649>, line 2)",
     "output_type": "error",
     "traceback": [
      "\u001b[1;36m  File \u001b[1;32m\"<ipython-input-3-8fe20c702649>\"\u001b[1;36m, line \u001b[1;32m2\u001b[0m\n\u001b[1;33m    print chr(one)\u001b[0m\n\u001b[1;37m          ^\u001b[0m\n\u001b[1;31mSyntaxError\u001b[0m\u001b[1;31m:\u001b[0m invalid syntax\n"
     ]
    }
   ],
   "source": [
    "for one in range(97,110):\n",
    "    print chr(one)"
   ]
  },
  {
   "cell_type": "code",
   "execution_count": 6,
   "metadata": {},
   "outputs": [],
   "source": [
    "def hcf(a,b):\n",
    "    a_factors = list(filter(lambda x: a % x == 0, list(range(1,a+1))))\n",
    "    b_factors = list(filter(lambda x: b % x == 0, list(range(1,b+1))))\n",
    "    common_factors = []\n",
    "    for factors in a_factors:\n",
    "        if factors in b_factors:\n",
    "            common_factors.append(factors)\n",
    "    return max(common_factors)"
   ]
  },
  {
   "cell_type": "code",
   "execution_count": 5,
   "metadata": {},
   "outputs": [
    {
     "name": "stdout",
     "output_type": "stream",
     "text": [
      "[1, 2, 5, 10]\n"
     ]
    }
   ],
   "source": [
    "a = 10\n",
    "a_factors = list(filter(lambda x: a % x == 0, range(1,a+1)))\n",
    "print(a_factors)"
   ]
  },
  {
   "cell_type": "code",
   "execution_count": 5,
   "metadata": {},
   "outputs": [
    {
     "data": {
      "text/plain": [
       "{1: 2, 2: 3, 3: 1, 4: 2, 5: 1, 6: 1}"
      ]
     },
     "execution_count": 5,
     "metadata": {},
     "output_type": "execute_result"
    }
   ],
   "source": [
    "from collections import Counter\n",
    "li = [1,1,2,2,2,3,4,5,4,6]\n",
    "shop = dict(Counter(li))\n",
    "shop"
   ]
  },
  {
   "cell_type": "code",
   "execution_count": 6,
   "metadata": {},
   "outputs": [
    {
     "data": {
      "text/plain": [
       "[1, 2, 3, 4, 5, 6]"
      ]
     },
     "execution_count": 6,
     "metadata": {},
     "output_type": "execute_result"
    }
   ],
   "source": [
    "a = list(shop.keys())\n",
    "a"
   ]
  },
  {
   "cell_type": "code",
   "execution_count": 7,
   "metadata": {},
   "outputs": [
    {
     "data": {
      "text/plain": [
       "dict_values([2, 3, 1, 2, 1, 1])"
      ]
     },
     "execution_count": 7,
     "metadata": {},
     "output_type": "execute_result"
    }
   ],
   "source": [
    "shop.values()"
   ]
  },
  {
   "cell_type": "code",
   "execution_count": 8,
   "metadata": {},
   "outputs": [
    {
     "data": {
      "text/plain": [
       "[1, 2, 3, 4, 5, 6]"
      ]
     },
     "execution_count": 8,
     "metadata": {},
     "output_type": "execute_result"
    }
   ],
   "source": [
    "list(shop)"
   ]
  },
  {
   "cell_type": "code",
   "execution_count": 19,
   "metadata": {},
   "outputs": [
    {
     "name": "stdout",
     "output_type": "stream",
     "text": [
      "720\n"
     ]
    }
   ],
   "source": [
    "from functools import reduce\n",
    "print(reduce(lambda a,b: a*b,list(shop)))"
   ]
  },
  {
   "cell_type": "code",
   "execution_count": 27,
   "metadata": {},
   "outputs": [
    {
     "name": "stdout",
     "output_type": "stream",
     "text": [
      "0.200000\n"
     ]
    }
   ],
   "source": [
    "a = 1/5\n",
    "print(f\"{a:1.6f}\")"
   ]
  },
  {
   "cell_type": "code",
   "execution_count": 2,
   "metadata": {},
   "outputs": [
    {
     "name": "stdout",
     "output_type": "stream",
     "text": [
      "Enter size of staircase:\n",
      "50\n",
      "                                                  #\n",
      "                                                 ##\n",
      "                                                ###\n",
      "                                               ####\n",
      "                                              #####\n",
      "                                             ######\n",
      "                                            #######\n",
      "                                           ########\n",
      "                                          #########\n",
      "                                         ##########\n",
      "                                        ###########\n",
      "                                       ############\n",
      "                                      #############\n",
      "                                     ##############\n",
      "                                    ###############\n",
      "                                   ################\n",
      "                                  #################\n",
      "                                 ##################\n",
      "                                ###################\n",
      "                               ####################\n",
      "                              #####################\n",
      "                             ######################\n",
      "                            #######################\n",
      "                           ########################\n",
      "                          #########################\n",
      "                         ##########################\n",
      "                        ###########################\n",
      "                       ############################\n",
      "                      #############################\n",
      "                     ##############################\n",
      "                    ###############################\n",
      "                   ################################\n",
      "                  #################################\n",
      "                 ##################################\n",
      "                ###################################\n",
      "               ####################################\n",
      "              #####################################\n",
      "             ######################################\n",
      "            #######################################\n",
      "           ########################################\n",
      "          #########################################\n",
      "         ##########################################\n",
      "        ###########################################\n",
      "       ############################################\n",
      "      #############################################\n",
      "     ##############################################\n",
      "    ###############################################\n",
      "   ################################################\n",
      "  #################################################\n",
      " ##################################################\n"
     ]
    }
   ],
   "source": [
    "size = int(input(\"Enter size of staircase:\\n\"))\n",
    "def staircase(n):\n",
    "    for i in range(n):\n",
    "        print((n-(i+1))*\" \",(i+1)*\"#\")\n",
    "staircase(size)"
   ]
  },
  {
   "cell_type": "code",
   "execution_count": 1,
   "metadata": {},
   "outputs": [
    {
     "name": "stdout",
     "output_type": "stream",
     "text": [
      "2 2 4 4 5 6\n"
     ]
    },
    {
     "ename": "TypeError",
     "evalue": "birthdayCakeCandles() missing 1 required positional argument: 'cand'",
     "output_type": "error",
     "traceback": [
      "\u001b[1;31m---------------------------------------------------------------------------\u001b[0m",
      "\u001b[1;31mTypeError\u001b[0m                                 Traceback (most recent call last)",
      "\u001b[1;32m<ipython-input-1-05e22f58352e>\u001b[0m in \u001b[0;36m<module>\u001b[1;34m\u001b[0m\n\u001b[0;32m      2\u001b[0m \u001b[1;32mdef\u001b[0m \u001b[0mbirthdayCakeCandles\u001b[0m\u001b[1;33m(\u001b[0m\u001b[0mnum\u001b[0m\u001b[1;33m,\u001b[0m\u001b[0mcand\u001b[0m\u001b[1;33m)\u001b[0m\u001b[1;33m:\u001b[0m\u001b[1;33m\u001b[0m\u001b[1;33m\u001b[0m\u001b[0m\n\u001b[0;32m      3\u001b[0m     \u001b[1;32mreturn\u001b[0m \u001b[0mmax\u001b[0m\u001b[1;33m(\u001b[0m\u001b[0mcand\u001b[0m\u001b[1;33m)\u001b[0m\u001b[1;33m.\u001b[0m\u001b[0mcount\u001b[0m\u001b[1;33m(\u001b[0m\u001b[1;33m)\u001b[0m\u001b[1;33m\u001b[0m\u001b[1;33m\u001b[0m\u001b[0m\n\u001b[1;32m----> 4\u001b[1;33m \u001b[0mprint\u001b[0m\u001b[1;33m(\u001b[0m\u001b[0mbirthdayCakeCandles\u001b[0m\u001b[1;33m(\u001b[0m\u001b[0mcandles\u001b[0m\u001b[1;33m)\u001b[0m\u001b[1;33m)\u001b[0m\u001b[1;33m\u001b[0m\u001b[1;33m\u001b[0m\u001b[0m\n\u001b[0m",
      "\u001b[1;31mTypeError\u001b[0m: birthdayCakeCandles() missing 1 required positional argument: 'cand'"
     ]
    }
   ],
   "source": [
    "candles = list(map(int, input().split()))\n",
    "def birthdayCakeCandles(num,cand):\n",
    "    return max(cand).count()\n",
    "print(birthdayCakeCandles(candles))"
   ]
  },
  {
   "cell_type": "code",
   "execution_count": 3,
   "metadata": {},
   "outputs": [
    {
     "data": {
      "text/plain": [
       "5"
      ]
     },
     "execution_count": 3,
     "metadata": {},
     "output_type": "execute_result"
    }
   ],
   "source": [
    "a = [1,2,3,4,5,6,7,7,7,7,7]\n",
    "a.count(max(a))"
   ]
  },
  {
   "cell_type": "code",
   "execution_count": 11,
   "metadata": {},
   "outputs": [
    {
     "data": {
      "text/plain": [
       "[7, 5, 45]"
      ]
     },
     "execution_count": 11,
     "metadata": {},
     "output_type": "execute_result"
    }
   ],
   "source": [
    "s = '07:05:45PM'\n",
    "denominations = list(map(int,s[:-2].split(':')))\n",
    "denominations\n"
   ]
  },
  {
   "cell_type": "code",
   "execution_count": 12,
   "metadata": {},
   "outputs": [
    {
     "name": "stdout",
     "output_type": "stream",
     "text": [
      "00:05:45PM\n"
     ]
    }
   ],
   "source": [
    "print(f\"00{s[2:]}\")"
   ]
  },
  {
   "cell_type": "code",
   "execution_count": 17,
   "metadata": {},
   "outputs": [],
   "source": [
    "lis = [8,3,1,2]\n",
    "lis.sort()\n",
    "lis.reverse()"
   ]
  },
  {
   "cell_type": "code",
   "execution_count": 19,
   "metadata": {},
   "outputs": [
    {
     "data": {
      "text/plain": [
       "[8, 3, 2, 1]"
      ]
     },
     "execution_count": 19,
     "metadata": {},
     "output_type": "execute_result"
    }
   ],
   "source": [
    "lis"
   ]
  },
  {
   "cell_type": "code",
   "execution_count": 8,
   "metadata": {},
   "outputs": [],
   "source": [
    "letter_counts = {}"
   ]
  },
  {
   "cell_type": "code",
   "execution_count": 9,
   "metadata": {},
   "outputs": [
    {
     "data": {
      "text/plain": [
       "{}"
      ]
     },
     "execution_count": 9,
     "metadata": {},
     "output_type": "execute_result"
    }
   ],
   "source": [
    "letter_counts"
   ]
  },
  {
   "cell_type": "code",
   "execution_count": 5,
   "metadata": {},
   "outputs": [],
   "source": [
    "from string import ascii_lowercase\n",
    "for i in list(ascii_lowercase[:6]):\n",
    "    n = 1\n",
    "    letter_counts[i] = n\n",
    "    n += 1"
   ]
  },
  {
   "cell_type": "code",
   "execution_count": 7,
   "metadata": {},
   "outputs": [
    {
     "data": {
      "text/plain": [
       "{'A': 2, 'a': 1, 'b': 1, 'c': 1, 'd': 1, 'e': 1, 'f': 1}"
      ]
     },
     "execution_count": 7,
     "metadata": {},
     "output_type": "execute_result"
    }
   ],
   "source": [
    "letter_counts['A'] = 2\n",
    "letter_counts"
   ]
  },
  {
   "cell_type": "code",
   "execution_count": 12,
   "metadata": {},
   "outputs": [
    {
     "data": {
      "text/plain": [
       "{'o': 2, 'l': 1, 'g': 2, 'e': 1}"
      ]
     },
     "execution_count": 12,
     "metadata": {},
     "output_type": "execute_result"
    }
   ],
   "source": [
    "for i in set(\"google\"):\n",
    "    letter_counts[i] = \"google\".count(i)\n",
    "letter_counts"
   ]
  },
  {
   "cell_type": "code",
   "execution_count": 23,
   "metadata": {},
   "outputs": [
    {
     "data": {
      "text/plain": [
       "[2, 1]"
      ]
     },
     "execution_count": 23,
     "metadata": {},
     "output_type": "execute_result"
    }
   ],
   "source": [
    "counts = sorted(set(letter_counts.values()))\n",
    "counts.reverse()\n",
    "counts\n"
   ]
  },
  {
   "cell_type": "code",
   "execution_count": 33,
   "metadata": {},
   "outputs": [
    {
     "name": "stdout",
     "output_type": "stream",
     "text": [
      "g 2\n",
      "o 2\n",
      "e 1\n"
     ]
    }
   ],
   "source": [
    "letters = sorted(letter_counts.keys())\n",
    "letters\n",
    "n = 0 \n",
    "for count in counts:\n",
    "    for letter in letters:\n",
    "        if letter_counts[letter] == count and n < 3:\n",
    "            print(f\"{letter} {count}\")\n",
    "            n += 1\n"
   ]
  },
  {
   "cell_type": "code",
   "execution_count": 26,
   "metadata": {},
   "outputs": [
    {
     "name": "stdout",
     "output_type": "stream",
     "text": [
      "['ososos', 'o', 'brososos', 'brosos', 'ososo', 'sos', 'sososo', 'rososososos', 'broso', 'brosososos', 'rosososo', 'rososo', 'r', 'br', 'rososos', 'sososos', 'ososososo', 'ososososos', 's', 'brosososo', 'ro', 'rososososo', 'rosos', 'osos', 'roso', 'sosososo', 'brososososo', 'osososo', 'sosos', 'brososososos', 'so', 'bro', 'oso', 'osososos', 'os', 'b', 'sosososos', 'ros', 'soso', 'bros', 'rosososos', 'brososo'] 1\n"
     ]
    }
   ],
   "source": [
    "string = \"brososososos\"\n",
    "sub_strs = []\n",
    "for j in range(1,len(string) + 1):\n",
    "    for i in range(len(string)):\n",
    "        sub_strs.append(string[i:i+j])\n",
    "print(list(set(sub_strs)),list(set(sub_strs)).count(\"os\"))"
   ]
  },
  {
   "cell_type": "code",
   "execution_count": 2,
   "metadata": {},
   "outputs": [
    {
     "data": {
      "text/plain": [
       "(0, 87, 15)"
      ]
     },
     "execution_count": 2,
     "metadata": {},
     "output_type": "execute_result"
    }
   ],
   "source": [
    "vowels = \"aeiou\"   \n",
    "kevin_score,stuart_score = 0,0\n",
    "sub_strs = []\n",
    "for j in range(1,len(string) + 1):\n",
    "    for i in range(len(string)):\n",
    "            sub_strs.append(string[i:i+j])\n",
    "    for sub in list(set(sub_strs)):\n",
    "        if sub[0] in vowels:\n",
    "            kevin_score += string.count(sub)\n",
    "        else:\n",
    "            stuart_score += string.count(sub)\n",
    "kevin_score,stuart_score,len(list(set(sub_strs)))"
   ]
  },
  {
   "cell_type": "code",
   "execution_count": 79,
   "metadata": {},
   "outputs": [
    {
     "data": {
      "text/plain": [
       "True"
      ]
     },
     "execution_count": 79,
     "metadata": {},
     "output_type": "execute_result"
    }
   ],
   "source": [
    "'a' in \"aeiou\""
   ]
  },
  {
   "cell_type": "code",
   "execution_count": 3,
   "metadata": {},
   "outputs": [
    {
     "name": "stdout",
     "output_type": "stream",
     "text": [
      "['BAN', 'ANA', 'BANANA', 'B', 'BA', 'ANANA', 'N', 'ANAN', 'A', 'BANAN', 'NA', 'NAN', 'BANA', 'AN', 'NANA'] 15\n"
     ]
    }
   ],
   "source": [
    "print(list(set(sub_strs)),len(list(set(sub_strs))))"
   ]
  },
  {
   "cell_type": "code",
   "execution_count": 4,
   "metadata": {},
   "outputs": [
    {
     "name": "stdout",
     "output_type": "stream",
     "text": [
      "False\n",
      "False\n",
      "False\n",
      "False\n",
      "False\n",
      "False\n",
      "False\n",
      "False\n",
      "False\n",
      "False\n",
      "False\n",
      "False\n",
      "False\n",
      "False\n",
      "False\n",
      "8 12\n"
     ]
    }
   ],
   "source": [
    "kevin_score,stuart_score = 0,0\n",
    "for sub in list(set(sub_strs)):\n",
    "    print(sub[0] in vowels)\n",
    "    if sub[0] in vowels.upper():\n",
    "        kevin_score += \"BANANA\".count(sub)\n",
    "    else:\n",
    "        stuart_score += \"BANANA\".count(sub)\n",
    "print(kevin_score,stuart_score)"
   ]
  },
  {
   "cell_type": "code",
   "execution_count": 34,
   "metadata": {
    "scrolled": true
   },
   "outputs": [
    {
     "name": "stdout",
     "output_type": "stream",
     "text": [
      "bro\n",
      "Stuart 5\n",
      "5 1\n"
     ]
    }
   ],
   "source": [
    "def minion_game(string):\n",
    "    # your code goes here\n",
    "    vowels = \"aeiouAEIOU\"   \n",
    "    kevin_score,stuart_score = 0,0\n",
    "    sub_strs = []\n",
    "    for j in range(1,len(string) + 1):\n",
    "        for i in range(len(string)):\n",
    "            sub_strs.append(string[i:i+j])\n",
    "    for sub in list(set(sub_strs)):\n",
    "        if sub[0] in vowels:\n",
    "            kevin_score += string.count(sub)\n",
    "        else:\n",
    "            stuart_score += string.count(sub)\n",
    "    if stuart_score > kevin_score:\n",
    "         print(\"Stuart\",stuart_score)\n",
    "    elif stuart_score < kevin_score:\n",
    "        print(\"Kevin\",kevin_score)\n",
    "    else:\n",
    "        print(\"Draw\")\n",
    "    print(stuart_score,kevin_score)\n",
    "if __name__ == '__main__':\n",
    "    s = input()\n",
    "    minion_game(s)"
   ]
  },
  {
   "cell_type": "code",
   "execution_count": 7,
   "metadata": {},
   "outputs": [
    {
     "data": {
      "text/plain": [
       "1024"
      ]
     },
     "execution_count": 7,
     "metadata": {},
     "output_type": "execute_result"
    }
   ],
   "source": [
    "len('EIQQEIOEEEIOAAOAIAEIEAQQEEIIEIAIQQOOQOEIEOEAAIIQIAAOQEEIOIAAEAOEEAOQAOAOEAAQIIEAOIOOOQQAEEOEOEOIEEAQAEIAIAEIOEQEIEOEAAOAIIQEQOIEEAIOIQEQIEAQOAQOEIOEOOIIOOAQQEOQQQEQOIQEOAOOIQAIEIOIOEQAOQAIIOIIOAIEQOOIQIIAQAAAQOOOOOQQOQOAEEOIEEEOEQAEEQAOQQAIEAIEIQQOQIEAQOOQEIQIIEQIQOAEIQOOEEEAAOOIIQAOIQAOEAEIIIQEQQAIEOEEQIOIEQIAIIOIOQEQQIIIQAAOAOIOQIQQOOAOIOOAOIEIIEIEIIIQQIEIQEQEEEOEQOAAAIEEAAOEEIQIIAQIQIAQQEIOOAQAEAEOEAOEQAEEQEAAAOOIQIEEIOOOAQEEOQEQOAQOIAOOAOAIIQIOQOIEEIEIEOOEQQEAEOIQOAAAEIQEQAOEOEOOQAEOQOIEQEQEAAOOAQAQEEQAOIEOQAOOAIAEOIOAAIQAOIEEOQOAIEAOEEQQQEEOIAEOQAOEAQAOEIIAEQAAIIEQAEQQOOAIIAAOEQAQQIAIOAIAOIEAIQAOAAAIEQQEEOAQQIQOQQQAOIIOAEIOIIOOIIIAEIEOQOEOIOQQEAIEIOOIOAAEOOEIIAEOEOQIAIOEEIQAIOEQEIIEEQAEAQAOOAAEEAOOIQOAAAIAIQQEOQAEIIIAEAQEAOQOEEIIIAIQEOIOOIIQAIIQAOAQIQEAQIQOAEEAAOAIIEOQAIQIAQEOIIEAAAAIOEAOIIIQQEEIEQQIIIQIQIOAOIQIQAIAOQEIQEQEEOIEEAIEQIQAOAEQAQEOAQOQQEEEOQAIOOQQOEEQQOOIEAAOAOAAEAOQQIOAOOEEIAAQIQAQOOIOOIEIQIEIEQEIEEIAQIEAIIIIIIEEEOQOEOIQAIAAIOOQQEEQOIQOAEAAEAOIAEIAOEIOOEOIIEIAEQIOAEEQQOQEOEIOIAAIQAOEAIEIEIEA')"
   ]
  },
  {
   "cell_type": "code",
   "execution_count": 25,
   "metadata": {},
   "outputs": [
    {
     "data": {
      "text/plain": [
       "int"
      ]
     },
     "execution_count": 25,
     "metadata": {},
     "output_type": "execute_result"
    }
   ],
   "source": [
    "type(\"hello\".count('s'))"
   ]
  },
  {
   "cell_type": "code",
   "execution_count": 23,
   "metadata": {},
   "outputs": [
    {
     "name": "stdout",
     "output_type": "stream",
     "text": [
      "Dictionary with values as list:\n",
      "defaultdict(<function <lambda> at 0x0000016CCA6B2670>, {0: [1, 0], 1: [1, 1], 2: [1, 2], 3: [1, 3], 4: [1, 4]})\n",
      "[1]\n"
     ]
    }
   ],
   "source": [
    "from collections import defaultdict\n",
    "  \n",
    "  \n",
    "# Defining a dict\n",
    "d = defaultdict(lambda: [1])\n",
    "  \n",
    "for i in range(5):\n",
    "    d[i].append(i)\n",
    "\n",
    "      \n",
    "print(\"Dictionary with values as list:\")\n",
    "print(d)\n",
    "print(d[5])"
   ]
  },
  {
   "cell_type": "code",
   "execution_count": 30,
   "metadata": {},
   "outputs": [
    {
     "data": {
      "text/plain": [
       "[1, 0, 2, 3, 4, 5, 6]"
      ]
     },
     "execution_count": 30,
     "metadata": {},
     "output_type": "execute_result"
    }
   ],
   "source": [
    "_ = [1,2,3,4,5,6]\n",
    "_.insert(1,0)\n",
    "_"
   ]
  },
  {
   "cell_type": "code",
   "execution_count": 32,
   "metadata": {},
   "outputs": [
    {
     "name": "stdout",
     "output_type": "stream",
     "text": [
      "1\n",
      "2\n",
      "4\n",
      "3\n",
      "5\n"
     ]
    },
    {
     "data": {
      "text/plain": [
       "['1', '2', '4', '3', '5']"
      ]
     },
     "execution_count": 32,
     "metadata": {},
     "output_type": "execute_result"
    }
   ],
   "source": [
    "_ = [input() for i in range(5)]\n",
    "_"
   ]
  },
  {
   "cell_type": "code",
   "execution_count": 34,
   "metadata": {},
   "outputs": [
    {
     "name": "stdout",
     "output_type": "stream",
     "text": [
      "1\n",
      "2\n",
      "3\n",
      "4\n",
      "5\n",
      "1\n",
      "2\n",
      "3\n",
      "4\n"
     ]
    }
   ],
   "source": [
    "n,m = 4,5\n",
    "group_a,group_b = [input() for i in range(n)],[input() for i in range(m)]"
   ]
  },
  {
   "cell_type": "code",
   "execution_count": 35,
   "metadata": {},
   "outputs": [
    {
     "name": "stdout",
     "output_type": "stream",
     "text": [
      "['1', '2', '3', '4'] ['5', '1', '2', '3', '4']\n"
     ]
    }
   ],
   "source": [
    "print(group_a,group_b)"
   ]
  },
  {
   "cell_type": "code",
   "execution_count": 36,
   "metadata": {},
   "outputs": [
    {
     "name": "stdout",
     "output_type": "stream",
     "text": [
      "5 2\n",
      "a\n",
      "a\n",
      "b\n",
      "a\n",
      "b\n",
      "a\n",
      "b\n"
     ]
    }
   ],
   "source": [
    "n,m = list(map(int,input().split()))\n",
    "group_a,group_b = [input() for i in range(n)],[input() for i in range(m)]"
   ]
  },
  {
   "cell_type": "code",
   "execution_count": 37,
   "metadata": {},
   "outputs": [
    {
     "data": {
      "text/plain": [
       "['a', 'a', 'b', 'a', 'b']"
      ]
     },
     "execution_count": 37,
     "metadata": {},
     "output_type": "execute_result"
    }
   ],
   "source": [
    "group_a"
   ]
  },
  {
   "cell_type": "code",
   "execution_count": 38,
   "metadata": {},
   "outputs": [
    {
     "data": {
      "text/plain": [
       "['a', 'b']"
      ]
     },
     "execution_count": 38,
     "metadata": {},
     "output_type": "execute_result"
    }
   ],
   "source": [
    "group_b"
   ]
  },
  {
   "cell_type": "code",
   "execution_count": 43,
   "metadata": {},
   "outputs": [
    {
     "name": "stdout",
     "output_type": "stream",
     "text": [
      "1 2 4 \n",
      "3 5 \n"
     ]
    }
   ],
   "source": [
    "for j in group_b:\n",
    "    if j in group_a:\n",
    "        for i in range(n):\n",
    "            if j == group_a[i]:\n",
    "                print(i+1,end = \" \")\n",
    "        print(\"\")\n",
    "    else:\n",
    "        print('-1')        "
   ]
  },
  {
   "cell_type": "code",
   "execution_count": 10,
   "metadata": {},
   "outputs": [],
   "source": [
    "list_ = [1,2,3,4,5,60]"
   ]
  },
  {
   "cell_type": "code",
   "execution_count": 1,
   "metadata": {},
   "outputs": [
    {
     "name": "stdout",
     "output_type": "stream",
     "text": [
      "6\n",
      "4 3 2 1 3 4\n",
      "Yes\n",
      "3\n",
      "1 3 2\n",
      "No\n"
     ]
    }
   ],
   "source": [
    "### There is a horizontal row of N cubes. The length of each cube is given. You need to create a new vertical pile of cubes. \n",
    "## The new pile should follow these directions: if Cube[i] is on top of Cube[j] then SideLength[j] >= SideLength[i].\n",
    "#When stacking the cubes, you can only pick up either the leftmost or the rightmost cube each time. \n",
    "#Print Yes if it is possible to stack the cubes. Otherwise, print No.\n",
    "test_cases = 2\n",
    "for _ in range(test_cases):\n",
    "    num_blocks = int(input())\n",
    "    blocks = list(map(int,input().split()))\n",
    "    popped_block = max([blocks[0],blocks[-1]])\n",
    "    for i in range(num_blocks):\n",
    "        if blocks[0] > blocks[-1] and blocks[0] <= popped_block:\n",
    "            popped_block = blocks.pop(0)\n",
    "        else:\n",
    "            if blocks[-1] <= popped_block:\n",
    "                popped_block = blocks.pop(-1)\n",
    "    if len(blocks) == 0:\n",
    "        print(\"Yes\")\n",
    "    else:\n",
    "        print(\"No\")"
   ]
  },
  {
   "cell_type": "code",
   "execution_count": 4,
   "metadata": {},
   "outputs": [
    {
     "name": "stdout",
     "output_type": "stream",
     "text": [
      "['a', 'b', 'c', 'd', 'e', 'f', 'g', 'h', 'i', 'j', 'k', 'l', 'm', 'n', 'o', 'p', 'q', 'r', 's', 't', 'u', 'v', 'w', 'x', 'y', 'z']\n"
     ]
    }
   ],
   "source": [
    "from string import ascii_lowercase\n",
    "normal_alpha = list(ascii_lowercase)\n",
    "print(normal_alpha)"
   ]
  },
  {
   "cell_type": "code",
   "execution_count": 16,
   "metadata": {},
   "outputs": [
    {
     "name": "stdout",
     "output_type": "stream",
     "text": [
      "--------*--------\n",
      "------*-*-*------\n",
      "----*-*-*-*-*----\n",
      "--*-*-*-*-*-*-*--\n",
      "*-*-*-*-*-*-*-*-*\n"
     ]
    }
   ],
   "source": [
    "n = 5\n",
    "for i in range(n):\n",
    "    print(2*(n-i-1)*\"-\" + (2*i)*\"*-\" + \"*\" + 2*(n-i-1)*\"-\")"
   ]
  },
  {
   "cell_type": "code",
   "execution_count": 30,
   "metadata": {},
   "outputs": [],
   "source": [
    "from functools import reduce\n",
    "def factorial(number):\n",
    "    if number != 0:\n",
    "        return reduce(lambda a,b: a*b, range(1,number + 1))\n",
    "    else:\n",
    "        return 1\n",
    "def ncr(n,r):\n",
    "    return factorial(n)/(factorial(r)*factorial(n-r))"
   ]
  },
  {
   "cell_type": "code",
   "execution_count": 28,
   "metadata": {},
   "outputs": [
    {
     "data": {
      "text/plain": [
       "120"
      ]
     },
     "execution_count": 28,
     "metadata": {},
     "output_type": "execute_result"
    }
   ],
   "source": [
    "factorial(5)"
   ]
  },
  {
   "cell_type": "code",
   "execution_count": 35,
   "metadata": {},
   "outputs": [
    {
     "name": "stdout",
     "output_type": "stream",
     "text": [
      "0.833\n",
      "6.0\n"
     ]
    }
   ],
   "source": [
    "N = 4\n",
    "letters = ['a','a','b','c']\n",
    "K = 2\n",
    "prob = 1 - ncr(N-letters.count('a'),K)/ncr(N,K)\n",
    "print(round(prob,3))\n",
    "print(ncr(4,2))\n"
   ]
  },
  {
   "cell_type": "code",
   "execution_count": 4,
   "metadata": {},
   "outputs": [
    {
     "name": "stdout",
     "output_type": "stream",
     "text": [
      "['4', '5', '5', '5', 'A', 'K', 'K', 'L', 'a', 'a', 'd', 'd', 'k', 'k', 's', 's']\n"
     ]
    }
   ],
   "source": [
    "li = ['K','A','K','L','s','k','a','d','a','k','d','s','5','5','4','5']\n",
    "print(sorted(li))"
   ]
  },
  {
   "cell_type": "code",
   "execution_count": 7,
   "metadata": {},
   "outputs": [
    {
     "data": {
      "text/plain": [
       "(2.23606797749979, 1.1071487177940904)"
      ]
     },
     "execution_count": 7,
     "metadata": {},
     "output_type": "execute_result"
    }
   ],
   "source": [
    "from cmath import polar\n",
    "polar(complex(1,2))"
   ]
  },
  {
   "cell_type": "code",
   "execution_count": 9,
   "metadata": {},
   "outputs": [
    {
     "data": {
      "text/plain": [
       "2.23606797749979"
      ]
     },
     "execution_count": 9,
     "metadata": {},
     "output_type": "execute_result"
    }
   ],
   "source": [
    "5**(1/2)"
   ]
  },
  {
   "cell_type": "code",
   "execution_count": 11,
   "metadata": {},
   "outputs": [
    {
     "data": {
      "text/plain": [
       "(1.0000000000000002+2j)"
      ]
     },
     "execution_count": 11,
     "metadata": {},
     "output_type": "execute_result"
    }
   ],
   "source": [
    "from cmath import rect\n",
    "rect(2.23606797749979, 1.1071487177940904)"
   ]
  },
  {
   "cell_type": "code",
   "execution_count": 13,
   "metadata": {},
   "outputs": [
    {
     "data": {
      "text/plain": [
       "(2.23606797749979, 1.1071487177940904)"
      ]
     },
     "execution_count": 13,
     "metadata": {},
     "output_type": "execute_result"
    }
   ],
   "source": [
    "polar(1+2j)"
   ]
  },
  {
   "cell_type": "code",
   "execution_count": 16,
   "metadata": {},
   "outputs": [
    {
     "data": {
      "text/plain": [
       "'2j'"
      ]
     },
     "execution_count": 16,
     "metadata": {},
     "output_type": "execute_result"
    }
   ],
   "source": [
    "('2j')"
   ]
  },
  {
   "cell_type": "code",
   "execution_count": 34,
   "metadata": {},
   "outputs": [],
   "source": [
    "def complex_arg(x):\n",
    "    arg = \"\"\n",
    "    for i in x:\n",
    "        if i.isdigit():\n",
    "            arg += i\n",
    "    return int(arg)"
   ]
  },
  {
   "cell_type": "code",
   "execution_count": 35,
   "metadata": {},
   "outputs": [
    {
     "data": {
      "text/plain": [
       "54"
      ]
     },
     "execution_count": 35,
     "metadata": {},
     "output_type": "execute_result"
    }
   ],
   "source": [
    "complex_arg('54j')"
   ]
  },
  {
   "cell_type": "code",
   "execution_count": 16,
   "metadata": {},
   "outputs": [],
   "source": [
    "array = map(int,['1','2'])"
   ]
  },
  {
   "cell_type": "code",
   "execution_count": 5,
   "metadata": {},
   "outputs": [
    {
     "data": {
      "text/plain": [
       "1"
      ]
     },
     "execution_count": 5,
     "metadata": {},
     "output_type": "execute_result"
    }
   ],
   "source": [
    "m"
   ]
  },
  {
   "cell_type": "code",
   "execution_count": 6,
   "metadata": {},
   "outputs": [
    {
     "data": {
      "text/plain": [
       "2"
      ]
     },
     "execution_count": 6,
     "metadata": {},
     "output_type": "execute_result"
    }
   ],
   "source": [
    "n"
   ]
  },
  {
   "cell_type": "code",
   "execution_count": 12,
   "metadata": {},
   "outputs": [
    {
     "name": "stdout",
     "output_type": "stream",
     "text": [
      "[1, 2]\n"
     ]
    }
   ],
   "source": [
    "print(list(array)) "
   ]
  },
  {
   "cell_type": "code",
   "execution_count": 19,
   "metadata": {},
   "outputs": [
    {
     "name": "stdout",
     "output_type": "stream",
     "text": [
      "sa\n"
     ]
    },
    {
     "ename": "ValueError",
     "evalue": "invalid literal for int() with base 10: 'sa'",
     "output_type": "error",
     "traceback": [
      "\u001b[1;31m---------------------------------------------------------------------------\u001b[0m",
      "\u001b[1;31mValueError\u001b[0m                                Traceback (most recent call last)",
      "\u001b[1;32m<ipython-input-19-d8f3a53122e4>\u001b[0m in \u001b[0;36m<module>\u001b[1;34m\u001b[0m\n\u001b[1;32m----> 1\u001b[1;33m \u001b[0mn\u001b[0m\u001b[1;33m,\u001b[0m\u001b[0mm\u001b[0m \u001b[1;33m=\u001b[0m \u001b[0mmap\u001b[0m\u001b[1;33m(\u001b[0m\u001b[0mint\u001b[0m\u001b[1;33m,\u001b[0m \u001b[0minput\u001b[0m\u001b[1;33m(\u001b[0m\u001b[1;33m)\u001b[0m\u001b[1;33m.\u001b[0m\u001b[0msplit\u001b[0m\u001b[1;33m(\u001b[0m\u001b[1;33m)\u001b[0m\u001b[1;33m)\u001b[0m\u001b[1;33m\u001b[0m\u001b[1;33m\u001b[0m\u001b[0m\n\u001b[0m\u001b[0;32m      2\u001b[0m \u001b[0marray\u001b[0m \u001b[1;33m=\u001b[0m \u001b[0minput\u001b[0m\u001b[1;33m(\u001b[0m\u001b[1;33m)\u001b[0m\u001b[1;33m.\u001b[0m\u001b[0msplit\u001b[0m\u001b[1;33m(\u001b[0m\u001b[1;33m)\u001b[0m\u001b[1;33m\u001b[0m\u001b[1;33m\u001b[0m\u001b[0m\n\u001b[0;32m      3\u001b[0m \u001b[0mset1\u001b[0m \u001b[1;33m=\u001b[0m \u001b[0mmap\u001b[0m\u001b[1;33m(\u001b[0m\u001b[1;32mlambda\u001b[0m \u001b[0mx\u001b[0m\u001b[1;33m:\u001b[0m \u001b[0marray\u001b[0m\u001b[1;33m.\u001b[0m\u001b[0mcount\u001b[0m\u001b[1;33m(\u001b[0m\u001b[0mx\u001b[0m\u001b[1;33m)\u001b[0m\u001b[1;33m,\u001b[0m\u001b[0minput\u001b[0m\u001b[1;33m(\u001b[0m\u001b[1;33m)\u001b[0m\u001b[1;33m.\u001b[0m\u001b[0msplit\u001b[0m\u001b[1;33m(\u001b[0m\u001b[1;33m)\u001b[0m\u001b[1;33m)\u001b[0m\u001b[1;33m\u001b[0m\u001b[1;33m\u001b[0m\u001b[0m\n\u001b[0;32m      4\u001b[0m \u001b[0mset2\u001b[0m \u001b[1;33m=\u001b[0m \u001b[0minput\u001b[0m\u001b[1;33m(\u001b[0m\u001b[1;33m)\u001b[0m\u001b[1;33m.\u001b[0m\u001b[0msplit\u001b[0m\u001b[1;33m(\u001b[0m\u001b[1;33m)\u001b[0m\u001b[1;33m\u001b[0m\u001b[1;33m\u001b[0m\u001b[0m\n\u001b[0;32m      5\u001b[0m \u001b[0mhappiness\u001b[0m \u001b[1;33m=\u001b[0m \u001b[1;36m0\u001b[0m\u001b[1;33m\u001b[0m\u001b[1;33m\u001b[0m\u001b[0m\n",
      "\u001b[1;31mValueError\u001b[0m: invalid literal for int() with base 10: 'sa'"
     ]
    }
   ],
   "source": [
    "n,m = map(int, input().split())\n",
    "array = input().split()\n",
    "set1 = map(lambda x: array.count(x),input().split())\n",
    "set2 = input().split()\n",
    "happiness = 0\n",
    " \n",
    "print(happiness)"
   ]
  },
  {
   "cell_type": "code",
   "execution_count": 17,
   "metadata": {},
   "outputs": [
    {
     "data": {
      "text/plain": [
       "3"
      ]
     },
     "execution_count": 17,
     "metadata": {},
     "output_type": "execute_result"
    }
   ],
   "source": [
    "sum(array)"
   ]
  },
  {
   "cell_type": "code",
   "execution_count": 37,
   "metadata": {},
   "outputs": [],
   "source": [
    "array = [1,2,3]\n",
    "set1 = list(map(lambda x: array.count(x),[1,2]))"
   ]
  },
  {
   "cell_type": "code",
   "execution_count": 29,
   "metadata": {},
   "outputs": [
    {
     "data": {
      "text/plain": [
       "[]"
      ]
     },
     "execution_count": 29,
     "metadata": {},
     "output_type": "execute_result"
    }
   ],
   "source": [
    "list(set1)"
   ]
  },
  {
   "cell_type": "code",
   "execution_count": 39,
   "metadata": {},
   "outputs": [
    {
     "data": {
      "text/plain": [
       "2"
      ]
     },
     "execution_count": 39,
     "metadata": {},
     "output_type": "execute_result"
    }
   ],
   "source": [
    "sum(sett)"
   ]
  },
  {
   "cell_type": "code",
   "execution_count": 41,
   "metadata": {},
   "outputs": [
    {
     "data": {
      "text/plain": [
       "[0, 1, 2]"
      ]
     },
     "execution_count": 41,
     "metadata": {},
     "output_type": "execute_result"
    }
   ],
   "source": [
    "[0]+ [1,2]"
   ]
  },
  {
   "cell_type": "code",
   "execution_count": 49,
   "metadata": {},
   "outputs": [],
   "source": [
    "from functools import reduce\n",
    "array = [1,2,3]\n",
    "set1 = reduce(lambda a,b: a + array.count(b),[0] + [2,1,0.5])"
   ]
  },
  {
   "cell_type": "code",
   "execution_count": 50,
   "metadata": {},
   "outputs": [
    {
     "data": {
      "text/plain": [
       "2"
      ]
     },
     "execution_count": 50,
     "metadata": {},
     "output_type": "execute_result"
    }
   ],
   "source": [
    "set1"
   ]
  },
  {
   "cell_type": "code",
   "execution_count": 3,
   "metadata": {},
   "outputs": [
    {
     "name": "stdout",
     "output_type": "stream",
     "text": [
      "1\n",
      "ch 69\n",
      "ch\n",
      "ch=69\n",
      "sada\n",
      "Not Found\n",
      "\n",
      "Not Found\n"
     ]
    }
   ],
   "source": [
    "contacts = int(input())\n",
    "phonebook = {}\n",
    "for _ in range(contacts):\n",
    "    friend,number = input().split()\n",
    "    phonebook[friend] = number\n",
    "query = 1\n",
    "while query:\n",
    "    query = input()\n",
    "    if query == None:\n",
    "        break\n",
    "    if query in phonebook:\n",
    "        print(f\"{query}={phonebook[query]}\")\n",
    "    else:\n",
    "        if query != None:\n",
    "            print(\"Not Found\")"
   ]
  },
  {
   "cell_type": "code",
   "execution_count": 13,
   "metadata": {},
   "outputs": [],
   "source": [
    "magazine = \"two times three is not four\".split()\n",
    "mag = {}\n",
    "for word in set(magazine):\n",
    "    mag[word] = magazine.count(word)"
   ]
  },
  {
   "cell_type": "code",
   "execution_count": 14,
   "metadata": {},
   "outputs": [
    {
     "data": {
      "text/plain": [
       "{'four': 1, 'three': 1, 'is': 1, 'not': 1, 'two': 1, 'times': 1}"
      ]
     },
     "execution_count": 14,
     "metadata": {},
     "output_type": "execute_result"
    }
   ],
   "source": [
    "mag"
   ]
  },
  {
   "cell_type": "code",
   "execution_count": 12,
   "metadata": {},
   "outputs": [],
   "source": [
    "note = 'two times two is four'.split()\n"
   ]
  },
  {
   "cell_type": "code",
   "execution_count": 9,
   "metadata": {},
   "outputs": [
    {
     "data": {
      "text/plain": [
       "{'four': 1, 'three': 1, 'is': 1, 'not': 1, 'two': 0, 'times': 1}"
      ]
     },
     "execution_count": 9,
     "metadata": {},
     "output_type": "execute_result"
    }
   ],
   "source": [
    "mag"
   ]
  },
  {
   "cell_type": "code",
   "execution_count": 21,
   "metadata": {},
   "outputs": [
    {
     "name": "stdout",
     "output_type": "stream",
     "text": [
      "Yes\n"
     ]
    }
   ],
   "source": [
    "for word in set(magazine):\n",
    "    mag[word] = magazine.count(word)\n",
    "for i in range(len(note)):\n",
    "    print(i)\n",
    "    if mag[note[i]] > 0:\n",
    "        mag[note[i]] -= 1\n",
    "        note.pop(i)\n",
    "if len(note) == 0:\n",
    "    print('Yes')\n",
    "else:\n",
    "    print('No')"
   ]
  },
  {
   "cell_type": "code",
   "execution_count": 2,
   "metadata": {},
   "outputs": [],
   "source": [
    "from functools import reduce\n",
    "def lcm(*args):\n",
    "    if 0 in args:\n",
    "        return 0\n",
    "    return reduce(lambda a,b: b if b%a == 0 else a*b, sorted(args))"
   ]
  },
  {
   "cell_type": "code",
   "execution_count": 3,
   "metadata": {},
   "outputs": [
    {
     "data": {
      "text/plain": [
       "0"
      ]
     },
     "execution_count": 3,
     "metadata": {},
     "output_type": "execute_result"
    }
   ],
   "source": [
    "lcm(0,2)"
   ]
  },
  {
   "cell_type": "code",
   "execution_count": 6,
   "metadata": {},
   "outputs": [
    {
     "data": {
      "text/plain": [
       "42"
      ]
     },
     "execution_count": 6,
     "metadata": {},
     "output_type": "execute_result"
    }
   ],
   "source": [
    "lcm(1,2,6,7)"
   ]
  },
  {
   "cell_type": "code",
   "execution_count": null,
   "metadata": {},
   "outputs": [],
   "source": []
  }
 ],
 "metadata": {
  "kernelspec": {
   "display_name": "Python 3",
   "language": "python",
   "name": "python3"
  },
  "language_info": {
   "codemirror_mode": {
    "name": "ipython",
    "version": 3
   },
   "file_extension": ".py",
   "mimetype": "text/x-python",
   "name": "python",
   "nbconvert_exporter": "python",
   "pygments_lexer": "ipython3",
   "version": "3.8.5"
  }
 },
 "nbformat": 4,
 "nbformat_minor": 4
}
