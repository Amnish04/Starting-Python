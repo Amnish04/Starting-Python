{
 "cells": [
  {
   "cell_type": "code",
   "execution_count": 15,
   "metadata": {},
   "outputs": [],
   "source": [
    "from functools import reduce\n",
    "def hcff(a,b = 0):\n",
    "    hcf = 1\n",
    "    for i in range(2,min(a,b)+1):\n",
    "        if min(a,b) % i == 0 and max(a,b) % i == 0:\n",
    "            hcf = i\n",
    "    return hcf\n",
    "def lcm(arr):\n",
    "    if 0 in arr:\n",
    "        return 0\n",
    "    return reduce(lambda a,b=1: b if b%a == 0 else a*(b//hcff(a,b)), sorted(arr))\n",
    "def hcf(arr):\n",
    "    # everything divides 0, so its presence won't impact the final result\n",
    "    if 0 in arr:\n",
    "        return reduce(lambda a,b: hcff(a,b), reversed(sorted(arr)[arr.count(0):]))\n",
    "    return reduce(lambda a,b: hcff(a,b), reversed(sorted(arr)))\n",
    "def getTotalX(a, b):\n",
    "    # Write your code here\n",
    "    a1,a2 = lcm(arr),hcf(brr)\n",
    "    ints = 0\n",
    "    for i in range(sorted(arr)[-1],sorted(brr)[0]+1):\n",
    "        if i%a1 == 0 and a2%i == 0:\n",
    "            ints += 1\n",
    "    return(ints) "
   ]
  },
  {
   "cell_type": "code",
   "execution_count": 5,
   "metadata": {},
   "outputs": [],
   "source": [
    "from functools import reduce\n",
    "def lcm(arr):\n",
    "    # every multiple of 0 is 0\n",
    "    if 0 in arr:\n",
    "        return 0\n",
    "    return reduce(lambda a,b: b if b%a == 0 else a*b, sorted(arr))"
   ]
  },
  {
   "cell_type": "code",
   "execution_count": 6,
   "metadata": {},
   "outputs": [
    {
     "data": {
      "text/plain": [
       "0"
      ]
     },
     "execution_count": 6,
     "metadata": {},
     "output_type": "execute_result"
    }
   ],
   "source": [
    "lcm([0,2])"
   ]
  },
  {
   "cell_type": "code",
   "execution_count": 7,
   "metadata": {},
   "outputs": [
    {
     "data": {
      "text/plain": [
       "42"
      ]
     },
     "execution_count": 7,
     "metadata": {},
     "output_type": "execute_result"
    }
   ],
   "source": [
    "lcm([1,2,7,6])"
   ]
  },
  {
   "cell_type": "code",
   "execution_count": 8,
   "metadata": {},
   "outputs": [
    {
     "data": {
      "text/plain": [
       "4"
      ]
     },
     "execution_count": 8,
     "metadata": {},
     "output_type": "execute_result"
    }
   ],
   "source": [
    "lcm([2,4])"
   ]
  },
  {
   "cell_type": "code",
   "execution_count": 9,
   "metadata": {},
   "outputs": [
    {
     "data": {
      "text/plain": [
       "245760"
      ]
     },
     "execution_count": 9,
     "metadata": {},
     "output_type": "execute_result"
    }
   ],
   "source": [
    "lcm([96,32,16,5])"
   ]
  },
  {
   "cell_type": "code",
   "execution_count": 10,
   "metadata": {},
   "outputs": [],
   "source": [
    "def hcf(arr):\n",
    "    # everything divides 0\n",
    "    if 0 in arr:\n",
    "        return reduce(lambda a,b: hcff(a,b), reversed(sorted(arr)[arr.count(0):]))\n",
    "    return reduce(lambda a,b: hcff(a,b), reversed(sorted(arr)))"
   ]
  },
  {
   "cell_type": "code",
   "execution_count": 11,
   "metadata": {},
   "outputs": [
    {
     "data": {
      "text/plain": [
       "2"
      ]
     },
     "execution_count": 11,
     "metadata": {},
     "output_type": "execute_result"
    }
   ],
   "source": [
    "hcf([30,20,12])"
   ]
  },
  {
   "cell_type": "code",
   "execution_count": 12,
   "metadata": {},
   "outputs": [],
   "source": [
    "def hcff(a,b):\n",
    "    hcf = 0\n",
    "    for i in range(1,min(a,b)+1):\n",
    "        if a % i == 0 and b % i == 0:\n",
    "            hcf = i\n",
    "    return hcf"
   ]
  },
  {
   "cell_type": "code",
   "execution_count": 13,
   "metadata": {},
   "outputs": [
    {
     "data": {
      "text/plain": [
       "12"
      ]
     },
     "execution_count": 13,
     "metadata": {},
     "output_type": "execute_result"
    }
   ],
   "source": [
    "hcf([84,96,0])"
   ]
  },
  {
   "cell_type": "code",
   "execution_count": 14,
   "metadata": {},
   "outputs": [
    {
     "data": {
      "text/plain": [
       "36"
      ]
     },
     "execution_count": 14,
     "metadata": {},
     "output_type": "execute_result"
    }
   ],
   "source": [
    "hcf([36,72])"
   ]
  },
  {
   "cell_type": "code",
   "execution_count": 19,
   "metadata": {},
   "outputs": [
    {
     "data": {
      "text/plain": [
       "2"
      ]
     },
     "execution_count": 19,
     "metadata": {},
     "output_type": "execute_result"
    }
   ],
   "source": [
    "arr = [3,9,6]\n",
    "brr = [36,72]\n",
    "getTotalX(arr,brr)"
   ]
  },
  {
   "cell_type": "code",
   "execution_count": 16,
   "metadata": {},
   "outputs": [
    {
     "data": {
      "text/plain": [
       "18"
      ]
     },
     "execution_count": 16,
     "metadata": {},
     "output_type": "execute_result"
    }
   ],
   "source": [
    "lcm(arr)"
   ]
  },
  {
   "cell_type": "code",
   "execution_count": 17,
   "metadata": {},
   "outputs": [
    {
     "data": {
      "text/plain": [
       "36"
      ]
     },
     "execution_count": 17,
     "metadata": {},
     "output_type": "execute_result"
    }
   ],
   "source": [
    "hcf(brr)"
   ]
  },
  {
   "cell_type": "code",
   "execution_count": 18,
   "metadata": {},
   "outputs": [
    {
     "data": {
      "text/plain": [
       "9"
      ]
     },
     "execution_count": 18,
     "metadata": {},
     "output_type": "execute_result"
    }
   ],
   "source": [
    "arr = [1]\n",
    "brr = [100]\n",
    "getTotalX(arr,brr)"
   ]
  },
  {
   "cell_type": "code",
   "execution_count": 27,
   "metadata": {},
   "outputs": [],
   "source": [
    "arr.sort(reverse= 1)"
   ]
  },
  {
   "cell_type": "code",
   "execution_count": 23,
   "metadata": {},
   "outputs": [
    {
     "name": "stdout",
     "output_type": "stream",
     "text": [
      "3\n",
      "{'bcdef': 2, 'abcdefg': 1, 'bcde': 1}\n",
      "2 1 1 "
     ]
    }
   ],
   "source": [
    "word_list = ['bcdef','bcdef','abcdefg','bcde']\n",
    "word_dict = {}\n",
    "for i in range(len(word_list)):\n",
    "    word = word_list[i]\n",
    "    if word not in word_dict:\n",
    "        word_dict[word] = 1\n",
    "    else:\n",
    "        word_dict[word] += 1\n",
    "print(len(set(word_dict)))\n",
    "print(word_dict)\n",
    "for word in word_dict:\n",
    "    print(word_dict[word], end = \" \")"
   ]
  },
  {
   "cell_type": "code",
   "execution_count": 9,
   "metadata": {},
   "outputs": [
    {
     "name": "stdout",
     "output_type": "stream",
     "text": [
      "bcdef\n",
      "abcdefg\n",
      "bcde\n"
     ]
    }
   ],
   "source": [
    "for word in word_dict:\n",
    "    print(word)"
   ]
  },
  {
   "cell_type": "code",
   "execution_count": 19,
   "metadata": {},
   "outputs": [
    {
     "name": "stdout",
     "output_type": "stream",
     "text": [
      "{'bcdef': [0, 2], 'abcdefg': [2, 1], 'bcde': [3, 1]}\n"
     ]
    }
   ],
   "source": [
    "print(word_dict)"
   ]
  },
  {
   "cell_type": "code",
   "execution_count": 2,
   "metadata": {},
   "outputs": [],
   "source": [
    "_dict = {\"hello\":0,'hi':1,'bye':2}"
   ]
  },
  {
   "cell_type": "code",
   "execution_count": 4,
   "metadata": {},
   "outputs": [
    {
     "name": "stdout",
     "output_type": "stream",
     "text": [
      "{'hello': 0, 'hi': 1, 'bye': 2}\n"
     ]
    }
   ],
   "source": [
    "print(_dict)"
   ]
  },
  {
   "cell_type": "code",
   "execution_count": 7,
   "metadata": {},
   "outputs": [
    {
     "name": "stdout",
     "output_type": "stream",
     "text": [
      "['hello', 'hi', 'bye']\n"
     ]
    }
   ],
   "source": [
    "print(list(_dict))"
   ]
  },
  {
   "cell_type": "code",
   "execution_count": 8,
   "metadata": {},
   "outputs": [
    {
     "name": "stdout",
     "output_type": "stream",
     "text": [
      "[('hello', 0), ('hi', 1), ('bye', 2)]\n"
     ]
    }
   ],
   "source": [
    "print(list(_dict.items()))"
   ]
  },
  {
   "cell_type": "code",
   "execution_count": null,
   "metadata": {},
   "outputs": [],
   "source": []
  },
  {
   "cell_type": "code",
   "execution_count": null,
   "metadata": {},
   "outputs": [],
   "source": []
  }
 ],
 "metadata": {
  "kernelspec": {
   "display_name": "Python 3",
   "language": "python",
   "name": "python3"
  },
  "language_info": {
   "codemirror_mode": {
    "name": "ipython",
    "version": 3
   },
   "file_extension": ".py",
   "mimetype": "text/x-python",
   "name": "python",
   "nbconvert_exporter": "python",
   "pygments_lexer": "ipython3",
   "version": "3.8.5"
  }
 },
 "nbformat": 4,
 "nbformat_minor": 4
}
