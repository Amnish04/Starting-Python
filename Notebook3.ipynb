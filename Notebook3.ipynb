{
 "cells": [
  {
   "cell_type": "code",
   "execution_count": null,
   "metadata": {},
   "outputs": [],
   "source": []
  },
  {
   "cell_type": "code",
   "execution_count": null,
   "metadata": {},
   "outputs": [],
   "source": []
  },
  {
   "cell_type": "code",
   "execution_count": null,
   "metadata": {},
   "outputs": [],
   "source": [
    "a=20\n",
    "while a >= 6:\n",
    "    a+=1\n",
    "while a <= 6:\n",
    "    a-=1\n",
    "    print (\"Fuck YOU\")\n"
   ]
  },
  {
   "cell_type": "code",
   "execution_count": null,
   "metadata": {},
   "outputs": [],
   "source": [
    "list_1=[1,1,2,3,4,5,6]\n",
    "x=set(list_1)\n",
    "y=0\n",
    "print(x)\n",
    "for numbers in x:\n",
    "    if numbers %2==0:\n",
    "        y=y+numbers\n",
    "print(y)\n",
    "\n",
    "#Just to check if sets or other unordered data types are iterables"
   ]
  },
  {
   "cell_type": "code",
   "execution_count": 1,
   "metadata": {},
   "outputs": [
    {
     "name": "stdout",
     "output_type": "stream",
     "text": [
      "3\n"
     ]
    }
   ],
   "source": [
    "fruits = ['banana', 'apple',  'mango']\n",
    "print(len(fruits))\n"
   ]
  },
  {
   "cell_type": "code",
   "execution_count": 18,
   "metadata": {},
   "outputs": [
    {
     "name": "stdout",
     "output_type": "stream",
     "text": [
      "Let\n",
      "Me\n",
      "Down\n",
      "Slowly\n"
     ]
    }
   ],
   "source": [
    "x='let me down slowly'\n",
    "b=x.split()\n",
    "for i in b:\n",
    "    print(i.capitalize())"
   ]
  },
  {
   "cell_type": "code",
   "execution_count": 18,
   "metadata": {},
   "outputs": [
    {
     "name": "stdout",
     "output_type": "stream",
     "text": [
      "1 2 3\n",
      "4 5 6\n",
      "7 8 9\n",
      "(1, 2, 3)\n",
      "(4, 5, 6)\n",
      "(7, 8, 9)\n",
      "2 3\n",
      "5 6\n",
      "8 9\n",
      "You got 3 such object types in my_list\n",
      "You got 3 such object types in my_list\n",
      "You got 3 such object types in my_list\n"
     ]
    }
   ],
   "source": [
    "my_list=[(1,2,3),(4,5,6),(7,8,9,)]\n",
    "for (a,b,c) in my_list:\n",
    "    print(a,b,c)  \n",
    "for d in my_list:\n",
    "        print(d)\n",
    "for (e,f,g) in my_list:\n",
    "    print(f,g)\n",
    "for (a,b,c) in my_list:\n",
    "    print(\"You got 3 such object types in my_list\")"
   ]
  },
  {
   "cell_type": "code",
   "execution_count": 4,
   "metadata": {},
   "outputs": [
    {
     "name": "stdout",
     "output_type": "stream",
     "text": [
      "Welcome Sh@rm@s@@b!\n"
     ]
    }
   ],
   "source": [
    "Username = 'Chandan'\n",
    "\n",
    "if Username=='Amnish':\n",
    "    print('Welcome Mr.India1!')\n",
    "elif Username=='Chandan':\n",
    "    print('Welcome Sh@rm@s@@b!')\n",
    "elif Username=='Angad':\n",
    "    print('Welcome Motu!')\n",
    "else:\n",
    "    print('This must be COMOTUDESEES!!!')"
   ]
  },
  {
   "cell_type": "code",
   "execution_count": 6,
   "metadata": {},
   "outputs": [
    {
     "name": "stdout",
     "output_type": "stream",
     "text": [
      "10\n"
     ]
    }
   ],
   "source": [
    "x=0\n",
    "for numbers in num_list:\n",
    "    if numbers %2==0:\n",
    "        y=x+numbers\n",
    "print(y)#???\n"
   ]
  },
  {
   "cell_type": "code",
   "execution_count": 3,
   "metadata": {},
   "outputs": [
    {
     "name": "stdout",
     "output_type": "stream",
     "text": [
      "Odd:1\n",
      "Even:2\n",
      "Odd:3\n",
      "Even:4\n",
      "Odd:5\n",
      "Even:6\n",
      "Odd:7\n",
      "Even:8\n",
      "Odd:9\n",
      "Even:10\n"
     ]
    }
   ],
   "source": [
    "num_list=[1,2,3,4,5,6,7,8,9,10]\n",
    "#Check for odd\n",
    "for nums in num_list:\n",
    "    if nums % 2 == 1:\n",
    "        print(f\"Odd:{nums}\")\n",
    "    else:\n",
    "        print(f\"Even:{nums}\")"
   ]
  },
  {
   "cell_type": "code",
   "execution_count": 33,
   "metadata": {},
   "outputs": [
    {
     "name": "stdout",
     "output_type": "stream",
     "text": [
      "25\n"
     ]
    }
   ],
   "source": [
    "num_list=[1,2,3,4,5,6,7,8,10]\n",
    "initial_sum=0\n",
    "for nums in num_list:\n",
    "    if nums %2 == 0:\n",
    "        initial_sum= initial_sum + 5\n",
    "        \n",
    "print(initial_sum)        "
   ]
  },
  {
   "cell_type": "code",
   "execution_count": 17,
   "metadata": {},
   "outputs": [
    {
     "name": "stdout",
     "output_type": "stream",
     "text": [
      "Hoes to Fuck:\n",
      " Sunny Leone\n",
      "Hoes to Fuck:\n",
      " Lana Rhodes,Mia Khalifa\n"
     ]
    }
   ],
   "source": [
    "brothel = {'Small':'Random Slut','Medium':'Sunny Leone','Large':'Lana Rhodes,Mia Khalifa'}\n",
    "for (boob_size,Hoes_to_fuck) in brothel.items():\n",
    "    if boob_size=='Medium' or boob_size=='Large':\n",
    "        print(\"Hoes to Fuck:\\n\",Hoes_to_fuck)"
   ]
  },
  {
   "cell_type": "code",
   "execution_count": 5,
   "metadata": {},
   "outputs": [
    {
     "name": "stdout",
     "output_type": "stream",
     "text": [
      "True\n"
     ]
    }
   ],
   "source": [
    "print(False==0)"
   ]
  },
  {
   "cell_type": "code",
   "execution_count": 6,
   "metadata": {},
   "outputs": [
    {
     "name": "stdout",
     "output_type": "stream",
     "text": [
      "3\n"
     ]
    }
   ],
   "source": [
    "print(True+True+True)"
   ]
  },
  {
   "cell_type": "code",
   "execution_count": 9,
   "metadata": {},
   "outputs": [
    {
     "name": "stdout",
     "output_type": "stream",
     "text": [
      "Overwriting hey.txt\n"
     ]
    }
   ],
   "source": [
    "%%writefile hey.txt\n",
    "TF You trynna read,bruh?"
   ]
  },
  {
   "cell_type": "code",
   "execution_count": 10,
   "metadata": {},
   "outputs": [
    {
     "data": {
      "text/plain": [
       "0"
      ]
     },
     "execution_count": 10,
     "metadata": {},
     "output_type": "execute_result"
    }
   ],
   "source": [
    "\n",
    "open('hey.txt', mode='r').seek(0)\n"
   ]
  },
  {
   "cell_type": "code",
   "execution_count": 16,
   "metadata": {},
   "outputs": [
    {
     "data": {
      "text/plain": [
       "'TF You trynna read,bruh?'"
      ]
     },
     "execution_count": 16,
     "metadata": {},
     "output_type": "execute_result"
    }
   ],
   "source": [
    "open('hey.txt').read()\n"
   ]
  }
 ],
 "metadata": {
  "kernelspec": {
   "display_name": "Python 3",
   "language": "python",
   "name": "python3"
  },
  "language_info": {
   "codemirror_mode": {
    "name": "ipython",
    "version": 3
   },
   "file_extension": ".py",
   "mimetype": "text/x-python",
   "name": "python",
   "nbconvert_exporter": "python",
   "pygments_lexer": "ipython3",
   "version": "3.8.5"
  }
 },
 "nbformat": 4,
 "nbformat_minor": 4
}
