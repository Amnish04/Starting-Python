{
 "cells": [
  {
   "cell_type": "markdown",
   "metadata": {},
   "source": [
    "# #Modules and Packages"
   ]
  },
  {
   "cell_type": "code",
   "execution_count": null,
   "metadata": {},
   "outputs": [],
   "source": [
    "#import scipy.linalg\n",
    "\n",
    "# or\n",
    "\n",
    "from scipy import linalg"
   ]
  },
  {
   "cell_type": "code",
   "execution_count": null,
   "metadata": {},
   "outputs": [],
   "source": [
    "#dir(scipy.linalg)\n",
    "\n",
    "# or\n",
    "\n",
    "for functions in dir(linalg):\n",
    "    print(help(functions))"
   ]
  },
  {
   "cell_type": "code",
   "execution_count": null,
   "metadata": {},
   "outputs": [],
   "source": [
    "help(linalg.LinAlgError)"
   ]
  },
  {
   "cell_type": "markdown",
   "metadata": {},
   "source": [
    "# *Math Module"
   ]
  },
  {
   "cell_type": "code",
   "execution_count": null,
   "metadata": {},
   "outputs": [],
   "source": [
    "import math\n",
    "from math import *"
   ]
  },
  {
   "cell_type": "code",
   "execution_count": null,
   "metadata": {},
   "outputs": [],
   "source": [
    "ceil(1.8)"
   ]
  },
  {
   "cell_type": "code",
   "execution_count": null,
   "metadata": {},
   "outputs": [],
   "source": [
    "floor(3.4)"
   ]
  },
  {
   "cell_type": "code",
   "execution_count": null,
   "metadata": {},
   "outputs": [],
   "source": [
    "print(dir(math),len(dir(math)))\n",
    "# All the function names in the list are in the form of strings so iterating over them is useless for most cases. "
   ]
  },
  {
   "cell_type": "code",
   "execution_count": null,
   "metadata": {},
   "outputs": [],
   "source": [
    "type(math),math.__doc__"
   ]
  },
  {
   "cell_type": "code",
   "execution_count": null,
   "metadata": {},
   "outputs": [],
   "source": [
    "help(acos)"
   ]
  },
  {
   "cell_type": "code",
   "execution_count": null,
   "metadata": {},
   "outputs": [],
   "source": [
    "1/1.414"
   ]
  },
  {
   "cell_type": "code",
   "execution_count": null,
   "metadata": {},
   "outputs": [],
   "source": [
    "arc = float(input(\"Enter the arc\\n\"))\n",
    "print(round(acos(arc)*180*7/22,2),\"degrees\")"
   ]
  },
  {
   "cell_type": "code",
   "execution_count": null,
   "metadata": {},
   "outputs": [],
   "source": [
    "help(exp)"
   ]
  },
  {
   "cell_type": "code",
   "execution_count": null,
   "metadata": {},
   "outputs": [],
   "source": [
    "help(atan2)"
   ]
  },
  {
   "cell_type": "code",
   "execution_count": null,
   "metadata": {},
   "outputs": [],
   "source": [
    "help(atan)"
   ]
  },
  {
   "cell_type": "code",
   "execution_count": null,
   "metadata": {},
   "outputs": [],
   "source": [
    "help(degrees)"
   ]
  },
  {
   "cell_type": "code",
   "execution_count": null,
   "metadata": {},
   "outputs": [],
   "source": [
    "print(degrees(atan(-4/-3)),\"degrees\")"
   ]
  },
  {
   "cell_type": "code",
   "execution_count": null,
   "metadata": {},
   "outputs": [],
   "source": [
    "print(atan2(-4,-3)*57.27272727272727,\"degrees\")"
   ]
  },
  {
   "cell_type": "code",
   "execution_count": null,
   "metadata": {},
   "outputs": [],
   "source": [
    "180*7/22"
   ]
  },
  {
   "cell_type": "code",
   "execution_count": null,
   "metadata": {},
   "outputs": [],
   "source": [
    "help(copysign)"
   ]
  },
  {
   "cell_type": "code",
   "execution_count": null,
   "metadata": {},
   "outputs": [],
   "source": [
    "help(abs)"
   ]
  },
  {
   "cell_type": "code",
   "execution_count": null,
   "metadata": {},
   "outputs": [],
   "source": [
    "help(modf)"
   ]
  },
  {
   "cell_type": "code",
   "execution_count": null,
   "metadata": {},
   "outputs": [],
   "source": [
    "help(fmod)"
   ]
  },
  {
   "cell_type": "code",
   "execution_count": null,
   "metadata": {},
   "outputs": [],
   "source": [
    "fmod(8,5) # == x%y"
   ]
  },
  {
   "cell_type": "code",
   "execution_count": null,
   "metadata": {},
   "outputs": [],
   "source": [
    "help(isclose)  ### ?????????????!?!?!??!?!?!?  No Entiendo"
   ]
  },
  {
   "cell_type": "code",
   "execution_count": null,
   "metadata": {},
   "outputs": [],
   "source": [
    "count = 0\n",
    "while (count < 3):    \n",
    "    count = count+1\n",
    "    print(count)\n",
    "    break\n",
    "else:\n",
    "    print(\"No Break\")"
   ]
  },
  {
   "cell_type": "code",
   "execution_count": null,
   "metadata": {},
   "outputs": [],
   "source": [
    "# The else statement right after a for/while loop is only executed when the loop completes itself without any running any break\n",
    "# statement"
   ]
  },
  {
   "cell_type": "markdown",
   "metadata": {},
   "source": [
    "# Errors and Exception Handling"
   ]
  },
  {
   "cell_type": "code",
   "execution_count": 16,
   "metadata": {},
   "outputs": [],
   "source": [
    "def ask_int(*_range,ask = \"Enter an integer between 1 and 9\\n\",warning = \"That's not an integer\",warning2 = None):\n",
    "    a,b = _range\n",
    "    while True:\n",
    "        try:\n",
    "            number = int(input(ask))\n",
    "        except ValueError:\n",
    "            print(warning)\n",
    "            continue\n",
    "        except:\n",
    "            print(warning2)\n",
    "            continue\n",
    "        else:\n",
    "            if number in range(a,b):\n",
    "                break\n",
    "            else:\n",
    "                print(\"Number out of range!\")\n",
    "    return number"
   ]
  },
  {
   "cell_type": "code",
   "execution_count": 20,
   "metadata": {},
   "outputs": [
    {
     "name": "stdout",
     "output_type": "stream",
     "text": [
      "Enter an integer between 1 and 9\n",
      "6\n",
      "num = 6\n"
     ]
    }
   ],
   "source": [
    "num = 0\n",
    "num = ask_int(1,10)\n",
    "print(\"num =\",num)"
   ]
  },
  {
   "cell_type": "code",
   "execution_count": 2,
   "metadata": {},
   "outputs": [
    {
     "name": "stdout",
     "output_type": "stream",
     "text": [
      "0\n",
      "1\n"
     ]
    }
   ],
   "source": [
    "check = 1\n",
    "while check:\n",
    "    for i in range(5):\n",
    "        if i == 2:\n",
    "            check = False\n",
    "            break\n",
    "        else:\n",
    "            print(i)"
   ]
  },
  {
   "cell_type": "code",
   "execution_count": null,
   "metadata": {},
   "outputs": [],
   "source": [
    "check = 1\n",
    "while 0:\n",
    "    global check\n",
    "    if check == 3:\n",
    "        check = 0\n",
    "    elif True:\n",
    "        print(1)\n",
    "    print(2)\n",
    "    check += 1"
   ]
  },
  {
   "cell_type": "code",
   "execution_count": 21,
   "metadata": {},
   "outputs": [],
   "source": [
    "def ask_int(a,b,ask = \"Enter an integer between 1 and 9\\n\",warning = \"That's not an integer\",warning2 = None):\n",
    "    '''\n",
    "    :param a: range leftmost int\n",
    "    :param b: range rightmost int\n",
    "    :param ask: String to be displayed on asking the integer\n",
    "    :param warning: String displayed on ValueError\n",
    "    :param warning2: Optional String displayed on any other error\n",
    "    :return: Valid inputted integer\n",
    "    '''\n",
    "    while True:\n",
    "        try:\n",
    "            number = int(input(ask))\n",
    "        except ValueError:\n",
    "            print(warning)\n",
    "            continue\n",
    "        except:\n",
    "            print(warning2)\n",
    "            continue\n",
    "        else:\n",
    "            if number in range(a,b):\n",
    "                break\n",
    "            else:\n",
    "                print(\"Number out of range!\")\n",
    "    return number"
   ]
  },
  {
   "cell_type": "code",
   "execution_count": 25,
   "metadata": {},
   "outputs": [
    {
     "name": "stdout",
     "output_type": "stream",
     "text": [
      "Please enter the position where you want to place your mark(1-9): \n",
      "asds\n",
      "Please choose a valid position.\n",
      "Please enter the position where you want to place your mark(1-9): \n",
      "asda\n",
      "Please choose a valid position.\n",
      "Please enter the position where you want to place your mark(1-9): \n",
      "4\n"
     ]
    },
    {
     "data": {
      "text/plain": [
       "4"
      ]
     },
     "execution_count": 25,
     "metadata": {},
     "output_type": "execute_result"
    }
   ],
   "source": [
    "choice = ask_int(1,10,\"Please enter the position where you want to place your mark(1-9): \\n\",\"Please choose a valid position.\")\n",
    "choice"
   ]
  },
  {
   "cell_type": "code",
   "execution_count": 23,
   "metadata": {},
   "outputs": [
    {
     "data": {
      "text/plain": [
       "0"
      ]
     },
     "execution_count": 23,
     "metadata": {},
     "output_type": "execute_result"
    }
   ],
   "source": [
    "user_choice"
   ]
  },
  {
   "cell_type": "code",
   "execution_count": 27,
   "metadata": {},
   "outputs": [
    {
     "name": "stdout",
     "output_type": "stream",
     "text": [
      "\n",
      "    :param a: range leftmost int\n",
      "    :param b: range rightmost int\n",
      "    :param ask: String to be displayed on asking the integer\n",
      "    :param warning: String displayed on ValueError\n",
      "    :param warning2: Optional String displayed on any other error\n",
      "    :return: Valid inputted integer\n",
      "    \n"
     ]
    }
   ],
   "source": [
    "print(ask_int.__doc__)"
   ]
  },
  {
   "cell_type": "code",
   "execution_count": null,
   "metadata": {},
   "outputs": [],
   "source": []
  }
 ],
 "metadata": {
  "kernelspec": {
   "display_name": "Python 3",
   "language": "python",
   "name": "python3"
  },
  "language_info": {
   "codemirror_mode": {
    "name": "ipython",
    "version": 3
   },
   "file_extension": ".py",
   "mimetype": "text/x-python",
   "name": "python",
   "nbconvert_exporter": "python",
   "pygments_lexer": "ipython3",
   "version": "3.8.5"
  }
 },
 "nbformat": 4,
 "nbformat_minor": 4
}
