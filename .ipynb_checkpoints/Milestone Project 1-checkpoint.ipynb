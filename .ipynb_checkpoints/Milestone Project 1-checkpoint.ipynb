{
 "cells": [
  {
   "cell_type": "markdown",
   "metadata": {},
   "source": [
    "# TIC TAC TOE"
   ]
  },
  {
   "cell_type": "code",
   "execution_count": null,
   "metadata": {},
   "outputs": [],
   "source": [
    "### Actual game\n",
    "from IPython.display import clear_output\n",
    "from string import ascii_lowercase\n",
    "import string\n",
    "import random\n",
    "game_on = 1\n",
    "single_player = \"\"\n",
    "while single_player not in ('Yes','No'):\n",
    "    single_player = input(\"Play with computer? say 'Yes' or 'No'\\n\")\n",
    "    if single_player not in ('Yes','No'):\n",
    "        print(\"Enter 'Yes' or 'No'\")\n",
    "if single_player == 'Yes':\n",
    "    player1 = input(\"Enter your name: \\n\")\n",
    "else:\n",
    "    player1 = input(\"Enter your name player 1\\n\")\n",
    "    player2 = input(\"Enter your name player 2\\n\")\n",
    "while game_on:\n",
    "    board_placements = [\" \", \" \", \" \", \" \", \" \", \" \", \" \", \" \", \" \"]\n",
    "    moves_record = []\n",
    "    letter_choice = 'any'\n",
    "    while letter_choice not in ['O', 'X']:\n",
    "        letter_choice = input(f\"What do you wanna play as {player1} : 'O' or 'X' \\n\")\n",
    "        if letter_choice not in ['O', 'X']:\n",
    "            print(\"Hey! That's not a valid mark. Stop playing around!!!\")\n",
    "    print(f\"Aight, You chose {letter_choice}\")\n",
    "    ### Defining Functions\n",
    "    def display_board():\n",
    "        \n",
    "        tictactoe_board = f\"       |       |       \\n   {board_placements[0]}   |   {board_placements[1]}   |   {board_placements[2]}   \\n_______|_______|_______\\n       |       |       \\n   {board_placements[3]}   |   {board_placements[4]}   |   {board_placements[5]}   \\n_______|_______|_______\\n       |       |       \\n   {board_placements[6]}   |   {board_placements[7]}   |   {board_placements[8]}   \\n       |       |       \"\n",
    "        print(tictactoe_board)\n",
    "\n",
    "    def user_input():\n",
    "        user_choice = \"any\"\n",
    "        while not user_choice.isdigit() or user_choice not in list(string.digits[1:]):\n",
    "            user_choice = input(\"Please enter the position where you want to place your mark(1-9): \\n\")\n",
    "            if user_choice.isdigit() and user_choice in list(string.digits[1:]):\n",
    "                return int(user_choice)\n",
    "            else:\n",
    "                print(\"Please choose a valid position.\")\n",
    "\n",
    "    def bot_input(moves_list):\n",
    "        if len(moves_list) % 2 == 0:\n",
    "            return user_input()\n",
    "\n",
    "    def update_board(user_choice, moves_list, letter):\n",
    "        if single_player == 'No':\n",
    "            moves_list.append(user_choice)\n",
    "            player1_turn = len(moves_list) % 2 == 1\n",
    "            if single_player == 'No':\n",
    "                if player1_turn:\n",
    "                    board_placements[user_choice - 1] = letter\n",
    "                else:\n",
    "                    if letter == 'O':\n",
    "                        board_placements[user_choice - 1] = 'X'\n",
    "                    else:\n",
    "                        board_placements[user_choice - 1] = 'O'\n",
    "        else:\n",
    "            if len(moves_list) % 2 == 0:\n",
    "                moves_list.append(user_choice)\n",
    "                print(moves_list)\n",
    "                board_placements[user_choice - 1] = letter\n",
    "            else:\n",
    "                bot = \"20\"\n",
    "                while (int(bot)+1) in moves_list or not type(bot) == int:\n",
    "                    bot = random.randint(0,8)\n",
    "                moves_list.append(bot + 1)\n",
    "                print(moves_list)\n",
    "                if letter_choice == 'O':\n",
    "                    board_placements[bot] = 'X'\n",
    "                else:\n",
    "                    board_placements[bot] = 'O'\n",
    "\n",
    "    def replay():\n",
    "        replay_choice = 1\n",
    "        while replay_choice not in ['Y', 'N']:\n",
    "            replay_choice = input(\"Do you wanna play more? (Y or N): \")\n",
    "            if replay_choice not in ['Y', 'N']:\n",
    "                print(\"Come on! Enter correct choice.\")\n",
    "        if replay_choice == \"N\":\n",
    "            return False\n",
    "        else:\n",
    "            print(\"Welcome to a Brand new game!\")\n",
    "            return True\n",
    "\n",
    "    def game_check():\n",
    "        a = board_placements[0]\n",
    "        b = board_placements[1]\n",
    "        c = board_placements[2]\n",
    "        d = board_placements[3]\n",
    "        e = board_placements[4]\n",
    "        f = board_placements[5]\n",
    "        g = board_placements[6]\n",
    "        h = board_placements[7]\n",
    "        i = board_placements[8]\n",
    "\n",
    "        if (a == b == c != \" \" or d == e == f != \" \" or g == h == i != \" \" or a == d == g != \" \" or b == e == h != \" \" or c == f == i != \" \" or a == e == i != \" \" or c == e == g != \" \"):\n",
    "            display_board()\n",
    "            player1_turn = len(moves_record) % 2 == 1\n",
    "            if player1_turn:\n",
    "                print(f\"You won {player1}\")\n",
    "            else:\n",
    "                try:\n",
    "                    print(f\"{player2} wins!\")\n",
    "                except NameError:\n",
    "                    print(\"Computer wins!\\n Better Luck next time.\")\n",
    "            return True\n",
    "        if \" \" not in board_placements:\n",
    "            print(\"Its a Tie.\")\n",
    "            return True\n",
    "    def anti_cheat():\n",
    "        player1_turn = len(moves_record) % 2 == 1\n",
    "        for moves in moves_record:\n",
    "            if moves_record.count(moves) > 1:\n",
    "                if player1_turn:\n",
    "                    print(f\"{player1} is disqualified on account of cheating.\")\n",
    "                    return True\n",
    "                else:\n",
    "                    try:\n",
    "                        print(f\"{player2} is disqualified on account of cheating.\")\n",
    "                        return True\n",
    "                    except NameError:\n",
    "                        print(\"Bot is disqualified for cheating.\")\n",
    "                        return True\n",
    "\n",
    "\n",
    "    ### Using defined functions\n",
    "    while True:\n",
    "        ##if len(moves_record) != 0:  (Whats the problem)\n",
    "          #  clear_output()\n",
    "        display_board()\n",
    "        if single_player == 'No':\n",
    "            choice = user_input()\n",
    "        else:\n",
    "            choice = bot_input(moves_record)\n",
    "        update_board(choice, moves_record, letter_choice)\n",
    "        if anti_cheat():\n",
    "            break\n",
    "        if game_check():\n",
    "            if not replay():\n",
    "                game_on = 0\n",
    "            break\n"
   ]
  },
  {
   "cell_type": "code",
   "execution_count": null,
   "metadata": {},
   "outputs": [],
   "source": [
    "### TESTING AND LEARNING FROM ERRORS"
   ]
  },
  {
   "cell_type": "code",
   "execution_count": null,
   "metadata": {},
   "outputs": [],
   "source": [
    "display_board = f\"       |       |       \\n   {a}   |   {b}   |   {c}   \\n_______|_______|_______\\n       |       |       \\n   {d}   |   {e}   |   {f}   \\n_______|_______|_______\\n       |       |       \\n   {g}   |   {h}   |   {i}   \\n       |       |       \""
   ]
  },
  {
   "cell_type": "code",
   "execution_count": null,
   "metadata": {},
   "outputs": [],
   "source": [
    "print(display_board)"
   ]
  },
  {
   "cell_type": "code",
   "execution_count": null,
   "metadata": {},
   "outputs": [],
   "source": [
    "a = \" \"\n",
    "b = \" \"\n",
    "c = \" \"\n",
    "d = \" \"\n",
    "e = \" \"\n",
    "f = \" \"\n",
    "g = \" \"\n",
    "h = \" \"\n",
    "i = \" \"\n",
    "\n",
    "tictactoe_board = f\"       |       |       \\n   {a}   |   {b}   |   {c}   \\n_______|_______|_______\\n       |       |       \\n   {d}   |   {e}   |   {f}   \\n_______|_______|_______\\n       |       |       \\n   {g}   |   {h}   |   {i}   \\n       |       |       \"\n",
    "\n",
    "print(tictactoe_board)"
   ]
  },
  {
   "cell_type": "code",
   "execution_count": null,
   "metadata": {},
   "outputs": [],
   "source": [
    "a = \" \"\n",
    "b = \" \"\n",
    "c = \" \"\n",
    "d = \" \"\n",
    "e = \" \"\n",
    "f = \" \"\n",
    "g = \" \"\n",
    "h = \" \"\n",
    "i = \" \""
   ]
  },
  {
   "cell_type": "code",
   "execution_count": null,
   "metadata": {},
   "outputs": [],
   "source": [
    "def display_board():\n",
    "    tictactoe_board = f\"       |       |       \\n   {a}   |   {b}   |   {c}   \\n_______|_______|_______\\n       |       |       \\n   {d}   |   {e}   |   {f}   \\n_______|_______|_______\\n       |       |       \\n   {g}   |   {h}   |   {i}   \\n       |       |       \"\n",
    "    print(tictactoe_board)\n"
   ]
  },
  {
   "cell_type": "code",
   "execution_count": null,
   "metadata": {},
   "outputs": [],
   "source": [
    "display_board()"
   ]
  },
  {
   "cell_type": "code",
   "execution_count": null,
   "metadata": {},
   "outputs": [],
   "source": [
    "from IPython.display import clear_output\n",
    "from string import ascii_lowercase"
   ]
  },
  {
   "cell_type": "code",
   "execution_count": null,
   "metadata": {},
   "outputs": [],
   "source": [
    "def user_input(name1, name2, game_list):\n",
    "    letter_choice = 'any'\n",
    "    while letter_choice not in ['O','X']:\n",
    "        letter_choice = input(f\"What do you wanna play as {name1}\\n\")\n",
    "        if letter_choice not in ['O','X']:\n",
    "            clear_output()\n",
    "            print(\"Hey! Thats not a valid choice. Stop playing around!!!\")\n",
    "    game_list.append(letter_choice)\n",
    "    user_choice = \"any\"\n",
    "    while user_choice not in list(ascii_lowercase[:10]): \n",
    "        user_choice = input(\"Please enter the position where you want to place your mark: \\n\")\n",
    "        if user_choice not in list(ascii_lowercase[:10]):\n",
    "            clear_output()\n",
    "            print(\"Sorry! Please enter a valid position.\")\n",
    "    return user_choice\n"
   ]
  },
  {
   "cell_type": "code",
   "execution_count": null,
   "metadata": {},
   "outputs": [],
   "source": [
    "player1 = input(\"Enter your name player 1\\n\")\n",
    "player2 = input(\"Enter your name player 2\\n\")\n"
   ]
  },
  {
   "cell_type": "code",
   "execution_count": null,
   "metadata": {},
   "outputs": [],
   "source": [
    "moves_record = []"
   ]
  },
  {
   "cell_type": "code",
   "execution_count": null,
   "metadata": {},
   "outputs": [],
   "source": [
    "choice = user_input(player1,player2,moves_record)"
   ]
  },
  {
   "cell_type": "code",
   "execution_count": null,
   "metadata": {},
   "outputs": [],
   "source": [
    "choice, moves_record"
   ]
  },
  {
   "cell_type": "code",
   "execution_count": null,
   "metadata": {},
   "outputs": [],
   "source": [
    "def game_check():\n",
    "    if (a == b == c or d == e == f or g ==  h == i or a == d == g or b == e == h or c == f == i or a == e == i or c == e == g) and len(moves_record) >= 6:\n",
    "        reset = False\n",
    "        if moves_record[-1] == moves_record[0]:\n",
    "            print(f\"You won player {player1}\")\n",
    "        else:\n",
    "            print(f\"{player2} wins!\")\n",
    "    else:\n",
    "        pass\n",
    "    replay_choice = \"\"\n",
    "    while replay_choice not in ['Y','N']:\n",
    "        replay_choice = input(\"Do you wanna play more? (Y or N): \")\n",
    "        if replay_choice not in ['Y','N']:\n",
    "            print(\"Come on! Enter correct choice.\")\n",
    "        if replay_choice == \"Y\":\n",
    "            pass\n",
    "        else:\n",
    "            game_on = False"
   ]
  },
  {
   "cell_type": "code",
   "execution_count": null,
   "metadata": {},
   "outputs": [],
   "source": []
  },
  {
   "cell_type": "code",
   "execution_count": null,
   "metadata": {},
   "outputs": [],
   "source": [
    "moves_record = []\n",
    "choice = user_input(player1,player2,moves_record)\n",
    "update_board(choice, moves_record)\n",
    "print(a)\n",
    "if (a == b == c or d == e == f or g ==  h == i or a == d == g or b == e == h or c == f == i or a == e == i or c == e == g) and len(moves_record) >= 5:\n",
    "    print(\"python sucks\")"
   ]
  },
  {
   "cell_type": "code",
   "execution_count": null,
   "metadata": {},
   "outputs": [],
   "source": [
    "print(tictactoe_board)"
   ]
  },
  {
   "cell_type": "code",
   "execution_count": null,
   "metadata": {},
   "outputs": [],
   "source": [
    "pizza = input()\n",
    "list1 = []\n",
    "list1.append(pizza)\n",
    "print(list1)"
   ]
  },
  {
   "cell_type": "code",
   "execution_count": null,
   "metadata": {},
   "outputs": [],
   "source": [
    "import string \n",
    "moves_record = [1]\n",
    "def user_input():\n",
    "    user_choice = \"any\"\n",
    "    while not user_choice.isdigit() or user_choice not in list(string.digits[1:]): \n",
    "        user_choice = input(\"Please enter the position where you want to place your mark(1-9): \\n\")\n",
    "        if user_choice.isdigit() and user_choice in list(string.digits[1:]):\n",
    "            return int(user_choice)\n",
    "        else:\n",
    "            print(\"Please choose a valid position.\")\n",
    "choice = user_input()\n",
    "print(type(choice))"
   ]
  },
  {
   "cell_type": "code",
   "execution_count": null,
   "metadata": {},
   "outputs": [],
   "source": [
    "import string \n",
    "\n",
    "list(string.digits[1:])"
   ]
  },
  {
   "cell_type": "code",
   "execution_count": null,
   "metadata": {},
   "outputs": [],
   "source": [
    "game_on = 1\n",
    "while game_on:\n",
    "    for i in range(10):\n",
    "        print(i)\n",
    "    game_on = 0"
   ]
  },
  {
   "cell_type": "code",
   "execution_count": null,
   "metadata": {},
   "outputs": [],
   "source": [
    "var_list = [a,b,c,d,e,f,g,h,i]"
   ]
  },
  {
   "cell_type": "code",
   "execution_count": null,
   "metadata": {},
   "outputs": [],
   "source": [
    "#Exploring more about scope\n",
    "a = 2\n",
    "b = 1\n",
    "def bak(c = \"\"):  # You can use global and paramters at the same time \n",
    "    global b\n",
    "    a = 1 ###  IMPORTANT\n",
    "    ## If I assign any global variable to some value or object, its gonna become a local variable for the function\n",
    "    print(a)\n",
    "    b = 0\n",
    "bak()\n",
    "a, b"
   ]
  },
  {
   "cell_type": "code",
   "execution_count": null,
   "metadata": {},
   "outputs": [],
   "source": [
    "### Great Lesson\n",
    "\n",
    "# Before re-assigning a\n",
    "print(\"Before re-assigning a\\n\")\n",
    "lst = []\n",
    "a = len(lst) % 2 == 0\n",
    "i = 0\n",
    "while i < 9:\n",
    "    lst.append(1)\n",
    "    print(lst, a)\n",
    "    i += 1\n",
    "print(\"\\n\\n\")\n",
    "# After fixing\n",
    "print(\"After fixing\\n\")\n",
    "lst = []\n",
    "i = 0\n",
    "while i < 9:\n",
    "    a = len(lst) % 2 == 0\n",
    "    lst.append(1)\n",
    "    print(lst, a)\n",
    "    i += 1"
   ]
  },
  {
   "cell_type": "code",
   "execution_count": null,
   "metadata": {},
   "outputs": [],
   "source": [
    "import random\n",
    "bot = \"\"\n",
    "moves_list = [i for i in range(7)]\n",
    "while bot in moves_list or not type(bot) == int:\n",
    "    bot = random.randint(0,8)"
   ]
  },
  {
   "cell_type": "code",
   "execution_count": null,
   "metadata": {},
   "outputs": [],
   "source": [
    "bot"
   ]
  },
  {
   "cell_type": "code",
   "execution_count": 1,
   "metadata": {},
   "outputs": [
    {
     "name": "stdout",
     "output_type": "stream",
     "text": [
      "Do you play Call of Duty Y or N: jv\n",
      "Whoops! Can't Understand.\n",
      "Do you play Call of Duty Y or N: Y\n",
      "'''Failed to Accomplish mission profile, Stand down Amnish!'''\n",
      "The answer was: 21 \n",
      "Your Attempts: [50, 60, 40, 30, 20, 10, 15, 16, 17, 18]\n"
     ]
    }
   ],
   "source": [
    "from IPython.display import clear_output\n",
    "def special_chars(arg):\n",
    "    import string\n",
    "    for i in arg:\n",
    "        if i in string.punctuation:\n",
    "            print(\"Special Characters are not allowed in Username.\")\n",
    "            return True\n",
    "    return False\n",
    "username = '@'\n",
    "while special_chars(username):\n",
    "    username = input(\"Enter your name: \\n\")\n",
    "print(f\"WELCOME TO GUESS ME {username}!\")\n",
    "print(\"I'm thinking of a number between 1 and 100\")\n",
    "print(\"If your guess is more than 10 away from my number, I'll tell you you're COLD\")\n",
    "print(\"If your guess is within 10 of my number, I'll tell you you're WARM\")\n",
    "print(\"If your guess is farther than your most recent guess, I'll say you're getting COLDER\")\n",
    "print(\"If your guess is closer than your most recent guess, I'll say you're getting WARMER\\n\"\n",
    "      \"And yes, YOU WILL GET ONLY 10 CHANCES.\")\n",
    "print(\"LET'S PLAY!\")\n",
    "import random\n",
    "answer = random.randint(1,101)\n",
    "Attempt_List = [0]              #to track last guess\n",
    "while True:\n",
    "    acceptable_guess = False\n",
    "    guess = 'Wrong'\n",
    "    while not guess.isdigit() or not acceptable_guess:\n",
    "        guess = input(\"Enter your Guess: \")\n",
    "        if guess.isdigit():\n",
    "            if int(guess) not in range(1,101):\n",
    "                print(f\"Select from the range BITCH-ASS NIGGA {username}!\")\n",
    "            else:\n",
    "                acceptable_guess = True\n",
    "        else:\n",
    "            print(f\"Select a digit DUMB-ASS NIGGA {username}!\")\n",
    "    guess = int(guess)\n",
    "    Attempt_List.append(guess)\n",
    "    clear_output()\n",
    "    if guess==answer:\n",
    "        print(f\"YOU WIN {username}!!!\"\n",
    "              f\"Just Another Day\")\n",
    "        print(f\"Number of Attempts: {len(Attempt_List) - 1}\"\n",
    "              f\" Attempts = {Attempt_List[1:]}\")\n",
    "        break\n",
    "    else:\n",
    "        if len(Attempt_List) > 10:\n",
    "            ask = 2\n",
    "            while ask not in ['Y','N','n','y']:\n",
    "                ask = input(\"Do you play Call of Duty Y or N: \")\n",
    "                if ask not in ['Y','N','n','y']:\n",
    "                    print(\"Whoops! Can't Understand.\")\n",
    "            if ask in ['y','Y']:\n",
    "                print(f\"'''Failed to Accomplish mission profile,\"\n",
    "                      f\" Stand down {username}!'''\"\n",
    "                      )\n",
    "            else:\n",
    "                print(f\"'''YOU LOSE, SUCKER! {username}'''\")\n",
    "            print(f\"The answer was: {answer} \\nYour Attempts: {Attempt_List[1:]}\")\n",
    "            break\n",
    "        print(f\"Your Attempts: {Attempt_List[1:]}\\n\"\n",
    "              f\"{11-len(Attempt_List)} Attempts left!\")\n",
    "        if abs(guess - answer) <= 10 and len(Attempt_List) < 3:\n",
    "            print(\"Warm!\")\n",
    "        elif abs(guess - answer) < abs(Attempt_List[-2] - answer) and len(Attempt_List) >= 3:\n",
    "            print(\"Warmer\")\n",
    "        elif abs(guess - answer) >= 10 and len(Attempt_List) < 3:\n",
    "            print(\"Cold!\")\n",
    "        elif abs(guess - answer) > abs(Attempt_List[-2] - answer) and len(Attempt_List) >= 3:\n",
    "            print(\"Colder!\")\n"
   ]
  },
  {
   "cell_type": "code",
   "execution_count": 7,
   "metadata": {},
   "outputs": [
    {
     "data": {
      "text/plain": [
       "2"
      ]
     },
     "execution_count": 7,
     "metadata": {},
     "output_type": "execute_result"
    }
   ],
   "source": [
    "int(5/2)"
   ]
  },
  {
   "cell_type": "code",
   "execution_count": 10,
   "metadata": {},
   "outputs": [
    {
     "ename": "ZeroDivisionError",
     "evalue": "integer division or modulo by zero",
     "output_type": "error",
     "traceback": [
      "\u001b[1;31m---------------------------------------------------------------------------\u001b[0m",
      "\u001b[1;31mZeroDivisionError\u001b[0m                         Traceback (most recent call last)",
      "\u001b[1;32m<ipython-input-10-90d8820a5ba3>\u001b[0m in \u001b[0;36m<module>\u001b[1;34m\u001b[0m\n\u001b[1;32m----> 1\u001b[1;33m \u001b[1;36m4\u001b[0m \u001b[1;33m%\u001b[0m \u001b[1;36m0\u001b[0m\u001b[1;33m\u001b[0m\u001b[1;33m\u001b[0m\u001b[0m\n\u001b[0m",
      "\u001b[1;31mZeroDivisionError\u001b[0m: integer division or modulo by zero"
     ]
    }
   ],
   "source": [
    "4 % 0"
   ]
  },
  {
   "cell_type": "code",
   "execution_count": null,
   "metadata": {},
   "outputs": [],
   "source": []
  }
 ],
 "metadata": {
  "kernelspec": {
   "display_name": "Python 3",
   "language": "python",
   "name": "python3"
  },
  "language_info": {
   "codemirror_mode": {
    "name": "ipython",
    "version": 3
   },
   "file_extension": ".py",
   "mimetype": "text/x-python",
   "name": "python",
   "nbconvert_exporter": "python",
   "pygments_lexer": "ipython3",
   "version": "3.8.5"
  }
 },
 "nbformat": 4,
 "nbformat_minor": 4
}
