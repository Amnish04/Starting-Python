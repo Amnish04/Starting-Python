{
 "cells": [
  {
   "cell_type": "code",
   "execution_count": 4,
   "metadata": {},
   "outputs": [],
   "source": [
    "def sum_consectutive_primes(a,b):\n",
    "    prime_list = []\n",
    "    sum_p = 0\n",
    "    for i in range(a,b+1):\n",
    "        for p in range(2,i):\n",
    "            if i%p == 0:\n",
    "                break\n",
    "        else:\n",
    "            prime_list.append(i)\n",
    "    for i in range(len(prime_list) - 1):\n",
    "        if prime_list[i+1] - prime_list[i] == 2:\n",
    "            sum_p += prime_list[i] + prime_list[i+1]\n",
    "    return f\"Here's your sum: {sum_p}.\", f\"List of primes: {prime_list}.\""
   ]
  },
  {
   "cell_type": "code",
   "execution_count": 5,
   "metadata": {},
   "outputs": [
    {
     "name": "stdout",
     "output_type": "stream",
     "text": [
      "(\"Here's your sum: 2604.\", 'List of primes: [11, 13, 17, 19, 23, 29, 31, 37, 41, 43, 47, 53, 59, 61, 67, 71, 73, 79, 83, 89, 97, 101, 103, 107, 109, 113, 127, 131, 137, 139, 149, 151, 157, 163, 167, 173, 179, 181, 191, 193, 197, 199].')\n"
     ]
    }
   ],
   "source": [
    "print(sum_consectutive_primes(10,200))"
   ]
  },
  {
   "cell_type": "code",
   "execution_count": null,
   "metadata": {},
   "outputs": [
    {
     "name": "stdout",
     "output_type": "stream",
     "text": [
      "2487052598709577\n",
      "False\n"
     ]
    }
   ],
   "source": [
    "y = int(input())\n",
    "for i in range(2,y):\n",
    "    if y % i == 0:\n",
    "        print(False)\n",
    "else:\n",
    "    print(True)\n"
   ]
  },
  {
   "cell_type": "code",
   "execution_count": 8,
   "metadata": {},
   "outputs": [],
   "source": [
    "def check_007(lst):\n",
    "    check_list = []\n",
    "    for i in lst:\n",
    "        if i == 0 and len(check_list) in [0,1]:\n",
    "            check_list.append(i)\n",
    "        elif i == 7 and len(check_list) == 2:\n",
    "            check_list.append(i)\n",
    "    return check_list == [0,0,7]"
   ]
  },
  {
   "cell_type": "code",
   "execution_count": 9,
   "metadata": {},
   "outputs": [
    {
     "data": {
      "text/plain": [
       "True"
      ]
     },
     "execution_count": 9,
     "metadata": {},
     "output_type": "execute_result"
    }
   ],
   "source": [
    "check_007([0,7,0,2,4,7])"
   ]
  },
  {
   "cell_type": "code",
   "execution_count": 29,
   "metadata": {},
   "outputs": [
    {
     "data": {
      "text/plain": [
       "' \\t\\n\\r\\x0b\\x0c'"
      ]
     },
     "execution_count": 29,
     "metadata": {},
     "output_type": "execute_result"
    }
   ],
   "source": [
    "import string\n",
    "string.whitespace"
   ]
  },
  {
   "cell_type": "code",
   "execution_count": 38,
   "metadata": {},
   "outputs": [
    {
     "name": "stdout",
     "output_type": "stream",
     "text": [
      "The ASCII value of ' g '  is 103\n"
     ]
    }
   ],
   "source": [
    "c = 'g'\n",
    "# print the ASCII value of assigned character in c \n",
    "print(\"The ASCII value of ' \"+ c +\" '  is\", ord(c)) "
   ]
  },
  {
   "cell_type": "code",
   "execution_count": 39,
   "metadata": {},
   "outputs": [
    {
     "data": {
      "text/plain": [
       "['a', 'b', 'c']"
      ]
     },
     "execution_count": 39,
     "metadata": {},
     "output_type": "execute_result"
    }
   ],
   "source": [
    "sorted(\"bca\")"
   ]
  },
  {
   "cell_type": "code",
   "execution_count": 56,
   "metadata": {},
   "outputs": [
    {
     "data": {
      "text/plain": [
       "{'a',\n",
       " 'b',\n",
       " 'c',\n",
       " 'd',\n",
       " 'e',\n",
       " 'f',\n",
       " 'g',\n",
       " 'h',\n",
       " 'i',\n",
       " 'j',\n",
       " 'k',\n",
       " 'l',\n",
       " 'm',\n",
       " 'n',\n",
       " 'o',\n",
       " 'p',\n",
       " 'q',\n",
       " 'r',\n",
       " 's',\n",
       " 't',\n",
       " 'u',\n",
       " 'v',\n",
       " 'w',\n",
       " 'x',\n",
       " 'y',\n",
       " 'z'}"
      ]
     },
     "execution_count": 56,
     "metadata": {},
     "output_type": "execute_result"
    }
   ],
   "source": [
    "set(sorted(\"The quick brown fox jumps over the lazy dog\".replace(\" \",\"\").lower()))"
   ]
  },
  {
   "cell_type": "code",
   "execution_count": 62,
   "metadata": {},
   "outputs": [],
   "source": [
    "y = set([1,2,4,3])"
   ]
  },
  {
   "cell_type": "code",
   "execution_count": 64,
   "metadata": {},
   "outputs": [
    {
     "data": {
      "text/plain": [
       "[1, 2, 3, 4]"
      ]
     },
     "execution_count": 64,
     "metadata": {},
     "output_type": "execute_result"
    }
   ],
   "source": [
    "sorted(y)"
   ]
  },
  {
   "cell_type": "code",
   "execution_count": null,
   "metadata": {},
   "outputs": [],
   "source": []
  },
  {
   "cell_type": "code",
   "execution_count": null,
   "metadata": {},
   "outputs": [],
   "source": []
  },
  {
   "cell_type": "code",
   "execution_count": null,
   "metadata": {},
   "outputs": [],
   "source": []
  },
  {
   "cell_type": "code",
   "execution_count": 10,
   "metadata": {},
   "outputs": [
    {
     "name": "stdout",
     "output_type": "stream",
     "text": [
      "True\n"
     ]
    }
   ],
   "source": [
    "def prime(x):\n",
    "    factors_list=[]\n",
    "    for i in range(1,x+1):\n",
    "        if x%i==0:\n",
    "            factors_list.append(i)\n",
    "    if len(factors_list)==2:\n",
    "        return(True)\n",
    "    else:\n",
    "        print(False)\n",
    "        \n",
    "prime(7)"
   ]
  },
  {
   "cell_type": "code",
   "execution_count": 17,
   "metadata": {},
   "outputs": [
    {
     "name": "stdout",
     "output_type": "stream",
     "text": [
      "y\n"
     ]
    },
    {
     "data": {
      "text/plain": [
       "NoneType"
      ]
     },
     "execution_count": 17,
     "metadata": {},
     "output_type": "execute_result"
    }
   ],
   "source": [
    "type(print(\"y\"))"
   ]
  },
  {
   "cell_type": "code",
   "execution_count": 18,
   "metadata": {},
   "outputs": [
    {
     "name": "stdout",
     "output_type": "stream",
     "text": [
      "True\n"
     ]
    },
    {
     "data": {
      "text/plain": [
       "NoneType"
      ]
     },
     "execution_count": 18,
     "metadata": {},
     "output_type": "execute_result"
    }
   ],
   "source": [
    "type(prime(7))"
   ]
  },
  {
   "cell_type": "code",
   "execution_count": 8,
   "metadata": {},
   "outputs": [
    {
     "data": {
      "text/plain": [
       "True"
      ]
     },
     "execution_count": 8,
     "metadata": {},
     "output_type": "execute_result"
    }
   ],
   "source": [
    "def make_bricks(small, big, goal):\n",
    "    goali = 0\n",
    "    for i in range(big):\n",
    "        goali += 5\n",
    "        if goal - goali < 5:\n",
    "            break\n",
    "    if goali == goal:\n",
    "        return True\n",
    "    for i in range(small):\n",
    "        goali += 1\n",
    "        if goali == goal:\n",
    "            return True\n",
    "    return False\n",
    "make_bricks(1000000,1000,1000100)"
   ]
  },
  {
   "cell_type": "code",
   "execution_count": 15,
   "metadata": {},
   "outputs": [
    {
     "name": "stdout",
     "output_type": "stream",
     "text": [
      "False\n"
     ]
    },
    {
     "data": {
      "text/plain": [
       "NoneType"
      ]
     },
     "execution_count": 15,
     "metadata": {},
     "output_type": "execute_result"
    }
   ],
   "source": [
    "type(prime(4))"
   ]
  },
  {
   "cell_type": "code",
   "execution_count": 1,
   "metadata": {},
   "outputs": [
    {
     "name": "stdout",
     "output_type": "stream",
     "text": [
      " \n",
      "    Summary line. \n",
      "  \n",
      "    Extended description of function. \n",
      "  \n",
      "    Parameters: \n",
      "    arg1 (int): Description of arg1 \n",
      "  \n",
      "    Returns: \n",
      "    int: Description of return value \n",
      "  \n",
      "    \n"
     ]
    },
    {
     "data": {
      "text/plain": [
       "function"
      ]
     },
     "execution_count": 1,
     "metadata": {},
     "output_type": "execute_result"
    }
   ],
   "source": [
    "def my_function(arg1): \n",
    "    \"\"\" \n",
    "    Summary line. \n",
    "  \n",
    "    Extended description of function. \n",
    "  \n",
    "    Parameters: \n",
    "    arg1 (int): Description of arg1 \n",
    "  \n",
    "    Returns: \n",
    "    int: Description of return value \n",
    "  \n",
    "    \"\"\"\n",
    "  \n",
    "    return arg1 \n",
    "  \n",
    "print(my_function.__doc__) \n",
    "type(my_function)"
   ]
  },
  {
   "cell_type": "code",
   "execution_count": 2,
   "metadata": {},
   "outputs": [],
   "source": [
    "def parabola(x):\n",
    "    y = x**2\n",
    "    return y"
   ]
  },
  {
   "cell_type": "code",
   "execution_count": 11,
   "metadata": {},
   "outputs": [
    {
     "data": {
      "text/plain": [
       "16"
      ]
     },
     "execution_count": 11,
     "metadata": {},
     "output_type": "execute_result"
    }
   ],
   "source": [
    "parabola(4)"
   ]
  },
  {
   "cell_type": "code",
   "execution_count": 7,
   "metadata": {},
   "outputs": [
    {
     "data": {
      "text/plain": [
       "<function __main__.parabola(x)>"
      ]
     },
     "execution_count": 7,
     "metadata": {},
     "output_type": "execute_result"
    }
   ],
   "source": [
    "parabola"
   ]
  },
  {
   "cell_type": "code",
   "execution_count": 20,
   "metadata": {},
   "outputs": [
    {
     "name": "stdout",
     "output_type": "stream",
     "text": [
      "(1, 2, 3, 4)\n"
     ]
    }
   ],
   "source": [
    "def myfunc(*args):\n",
    "    print(args)\n",
    "myfunc(1,2,3,4)"
   ]
  },
  {
   "cell_type": "code",
   "execution_count": 38,
   "metadata": {},
   "outputs": [
    {
     "data": {
      "text/plain": [
       "'fDsFhSuFg'"
      ]
     },
     "execution_count": 38,
     "metadata": {},
     "output_type": "execute_result"
    }
   ],
   "source": [
    "def myfunc(string):\n",
    "    final_string = ''\n",
    "    for i in range(0, len(string)):\n",
    "        if i % 2 == 0:\n",
    "            final_string += string[i].lower()\n",
    "        else:\n",
    "            final_string += string[i].upper()\n",
    "    return final_string\n",
    "myfunc(\"fdsfhsufg\")"
   ]
  },
  {
   "cell_type": "code",
   "execution_count": 31,
   "metadata": {},
   "outputs": [
    {
     "data": {
      "text/plain": [
       "'A'"
      ]
     },
     "execution_count": 31,
     "metadata": {},
     "output_type": "execute_result"
    }
   ],
   "source": [
    "a = \"saoilhjdilkas\"\n",
    "a[1].upper()\n"
   ]
  },
  {
   "cell_type": "code",
   "execution_count": 1,
   "metadata": {},
   "outputs": [],
   "source": [
    "def prime(x):\n",
    "    for i in range(2,x):\n",
    "        if x%i == 0:\n",
    "            return False\n",
    "        else:\n",
    "            return True"
   ]
  },
  {
   "cell_type": "code",
   "execution_count": 2,
   "metadata": {},
   "outputs": [
    {
     "data": {
      "text/plain": [
       "True"
      ]
     },
     "execution_count": 2,
     "metadata": {},
     "output_type": "execute_result"
    }
   ],
   "source": [
    "prime(1009)"
   ]
  },
  {
   "cell_type": "code",
   "execution_count": 28,
   "metadata": {},
   "outputs": [
    {
     "data": {
      "text/plain": [
       "'not hello'"
      ]
     },
     "execution_count": 28,
     "metadata": {},
     "output_type": "execute_result"
    }
   ],
   "source": [
    "def not_string(str1):\n",
    "    while str1[0:3] == \"not\":\n",
    "        return str1\n",
    "    else:\n",
    "        str1 = \"not \" + str1\n",
    "    return str1\n",
    "not_string(\"hello\")"
   ]
  },
  {
   "cell_type": "code",
   "execution_count": 16,
   "metadata": {},
   "outputs": [
    {
     "data": {
      "text/plain": [
       "'ktty'"
      ]
     },
     "execution_count": 16,
     "metadata": {},
     "output_type": "execute_result"
    }
   ],
   "source": [
    "string = \"kitty\"\n",
    "string[0:1]+string[2:5]"
   ]
  },
  {
   "cell_type": "code",
   "execution_count": 29,
   "metadata": {},
   "outputs": [
    {
     "data": {
      "text/plain": [
       "'ktty'"
      ]
     },
     "execution_count": 29,
     "metadata": {},
     "output_type": "execute_result"
    }
   ],
   "source": [
    "def missing_char(str, n):\n",
    "    if n == 0:\n",
    "        return str[1:]\n",
    "    else:\n",
    "        return str[0:n] + str[n+1:len(str)]\n",
    "missing_char(\"kitty\",1)"
   ]
  },
  {
   "cell_type": "code",
   "execution_count": 38,
   "metadata": {},
   "outputs": [
    {
     "data": {
      "text/plain": [
       "'dastarb'"
      ]
     },
     "execution_count": 38,
     "metadata": {},
     "output_type": "execute_result"
    }
   ],
   "source": [
    "def front_back(str):\n",
    "    if len(str) <= 1:\n",
    "        return str\n",
    "    return str[len(str)-1] + str[1:len(str)-1] + str[0]\n",
    "front_back(\"bastard\")"
   ]
  },
  {
   "cell_type": "code",
   "execution_count": 22,
   "metadata": {},
   "outputs": [
    {
     "data": {
      "text/plain": [
       "'hehehe'"
      ]
     },
     "execution_count": 22,
     "metadata": {},
     "output_type": "execute_result"
    }
   ],
   "source": [
    "def front3(str):\n",
    "    if len(str) < 3:\n",
    "        return 3*str[:len(str)]\n",
    "    return 3*str[:3]\n",
    "\n",
    "front3(\"he\")"
   ]
  },
  {
   "cell_type": "code",
   "execution_count": 21,
   "metadata": {},
   "outputs": [
    {
     "data": {
      "text/plain": [
       "'Hlo'"
      ]
     },
     "execution_count": 21,
     "metadata": {},
     "output_type": "execute_result"
    }
   ],
   "source": [
    "def string_bits(str):\n",
    "    string = \"\"\n",
    "    for i in range(len(str)):\n",
    "        if i == 0:\n",
    "            string += str[i]\n",
    "        else:\n",
    "            if i%2 == 0:\n",
    "                string += str[i]\n",
    "            else:\n",
    "                pass\n",
    "    return string\n",
    "string_bits(\"Hello\")"
   ]
  },
  {
   "cell_type": "code",
   "execution_count": 23,
   "metadata": {},
   "outputs": [
    {
     "data": {
      "text/plain": [
       "' ... J... Je... Jes... Jess... Jessi... Jessic... Jessica...'"
      ]
     },
     "execution_count": 23,
     "metadata": {},
     "output_type": "execute_result"
    }
   ],
   "source": [
    "def string_splosion(str):\n",
    "    string = ''\n",
    "    for i in range(len(str)+1):\n",
    "        string += \" \" + str[0:i] + \"...\"\n",
    "    return string\n",
    "string_splosion(\"Jessica\")"
   ]
  },
  {
   "cell_type": "code",
   "execution_count": 24,
   "metadata": {},
   "outputs": [
    {
     "data": {
      "text/plain": [
       "'<i>Yay</i>'"
      ]
     },
     "execution_count": 24,
     "metadata": {},
     "output_type": "execute_result"
    }
   ],
   "source": [
    "def make_tags(tag, word):\n",
    "    return f\"<{tag}>{word}</{tag}>\"\n",
    "make_tags(\"i\", \"Yay\")"
   ]
  },
  {
   "cell_type": "code",
   "execution_count": null,
   "metadata": {},
   "outputs": [],
   "source": [
    "def print_big(letter):\n",
    "    \n",
    "def print_b()"
   ]
  },
  {
   "cell_type": "code",
   "execution_count": 17,
   "metadata": {},
   "outputs": [
    {
     "data": {
      "text/plain": [
       "(1, 4, ['aa', 'ab', 'bb', 'bb'])"
      ]
     },
     "execution_count": 17,
     "metadata": {},
     "output_type": "execute_result"
    }
   ],
   "source": [
    "def string_match(a, b):\n",
    "    a_substrings = []\n",
    "    b_substrings = []\n",
    "    for i in range(len(a) -1):\n",
    "        a_substrings.append(a[i:i+2])\n",
    "    for i in range(len(b) -1):\n",
    "        b_substrings.append(b[i:i+2])\n",
    "    count = 0\n",
    "    rangu = min(len(a_substrings), len(b_substrings))\n",
    "    for i in range(rangu):\n",
    "        if a_substrings[i] == b_substrings[i]:\n",
    "            count += 1\n",
    "    return count, rangu, a_substrings\n",
    "string_match(\"aabbb\",\"abcbb\")\n"
   ]
  },
  {
   "cell_type": "code",
   "execution_count": 15,
   "metadata": {},
   "outputs": [],
   "source": [
    "def splicer(a):\n",
    "    if len(a)%2 == 0:\n",
    "        return 'EVEN'\n",
    "    else:\n",
    "        return a[0] "
   ]
  },
  {
   "cell_type": "code",
   "execution_count": 16,
   "metadata": {},
   "outputs": [
    {
     "data": {
      "text/plain": [
       "['EVEN', 'M', 'EVEN']"
      ]
     },
     "execution_count": 16,
     "metadata": {},
     "output_type": "execute_result"
    }
   ],
   "source": [
    "str_list = ['Andy','Mandy','Shandy']\n",
    "list(map(splicer, str_list))"
   ]
  },
  {
   "cell_type": "code",
   "execution_count": 26,
   "metadata": {},
   "outputs": [],
   "source": [
    "def string_match2(a,b):\n",
    "    a_sub = []\n",
    "    b_sub = []\n",
    "    count = 0\n",
    "    x = min(len(a),len(b))\n",
    "    for i in range(x - 1):\n",
    "        a_sub.append(a[i:i+2])\n",
    "        b_sub.append(b[i:i+2])\n",
    "        if a_sub[i] == b_sub[i]:\n",
    "            count += 1\n",
    "    return count"
   ]
  },
  {
   "cell_type": "code",
   "execution_count": 30,
   "metadata": {},
   "outputs": [
    {
     "data": {
      "text/plain": [
       "1"
      ]
     },
     "execution_count": 30,
     "metadata": {},
     "output_type": "execute_result"
    }
   ],
   "source": [
    "a = \"aabbb\"\n",
    "b = \"abcbb\"\n",
    "string_match2(a,b)"
   ]
  },
  {
   "cell_type": "code",
   "execution_count": 22,
   "metadata": {},
   "outputs": [
    {
     "data": {
      "text/plain": [
       "[1, 8, 27, 64, 125, 216]"
      ]
     },
     "execution_count": 22,
     "metadata": {},
     "output_type": "execute_result"
    }
   ],
   "source": [
    "numlist = [1,2,3,4,5,6]\n",
    "list(map(lambda n:n**3,numlist))"
   ]
  },
  {
   "cell_type": "code",
   "execution_count": 3,
   "metadata": {},
   "outputs": [],
   "source": [
    "def brick(small,big,goal):\n",
    "    return goal % 5 <= small and small + 5*big >= goal"
   ]
  },
  {
   "cell_type": "code",
   "execution_count": 10,
   "metadata": {},
   "outputs": [
    {
     "data": {
      "text/plain": [
       "True"
      ]
     },
     "execution_count": 10,
     "metadata": {},
     "output_type": "execute_result"
    }
   ],
   "source": [
    "brick(3,2,13)"
   ]
  },
  {
   "cell_type": "code",
   "execution_count": 5,
   "metadata": {},
   "outputs": [
    {
     "name": "stdout",
     "output_type": "stream",
     "text": [
      "True\n"
     ]
    }
   ],
   "source": [
    "print('3'.isnumeric())"
   ]
  },
  {
   "cell_type": "code",
   "execution_count": 25,
   "metadata": {},
   "outputs": [],
   "source": [
    "def no_teen_sum(*args):\n",
    "    summed = 0\n",
    "    for i in args:\n",
    "        if i in range(13,20):\n",
    "            if i not in [15,16]:\n",
    "                i = 0\n",
    "            else:\n",
    "                pass\n",
    "        else:\n",
    "            pass\n",
    "        summed += i\n",
    "    return summed"
   ]
  },
  {
   "cell_type": "code",
   "execution_count": 26,
   "metadata": {},
   "outputs": [
    {
     "data": {
      "text/plain": [
       "32"
      ]
     },
     "execution_count": 26,
     "metadata": {},
     "output_type": "execute_result"
    }
   ],
   "source": [
    "no_teen_sum(13,14,15,16,1)"
   ]
  },
  {
   "cell_type": "code",
   "execution_count": 9,
   "metadata": {},
   "outputs": [],
   "source": [
    "def clear():\n",
    "    from os import system\n",
    "    system('clear')"
   ]
  },
  {
   "cell_type": "code",
   "execution_count": 10,
   "metadata": {},
   "outputs": [
    {
     "name": "stdout",
     "output_type": "stream",
     "text": [
      "4\n",
      "4\n"
     ]
    }
   ],
   "source": [
    "print(input())\n",
    "clear()"
   ]
  },
  {
   "cell_type": "code",
   "execution_count": null,
   "metadata": {},
   "outputs": [],
   "source": [
    "4 5 8\n",
    "2 4 1\n",
    "1 9 7"
   ]
  },
  {
   "cell_type": "code",
   "execution_count": 1,
   "metadata": {},
   "outputs": [
    {
     "name": "stdout",
     "output_type": "stream",
     "text": [
      "4 5 8\n",
      "2 4 1\n",
      "1 9 7\n"
     ]
    }
   ],
   "source": [
    "matrix = []\n",
    "for i in range(3):\n",
    "    i = list(map(int,input().split()))\n",
    "    matrix.append(i)"
   ]
  },
  {
   "cell_type": "code",
   "execution_count": 2,
   "metadata": {},
   "outputs": [
    {
     "data": {
      "text/plain": [
       "[[4, 5, 8], [2, 4, 1], [1, 9, 7]]"
      ]
     },
     "execution_count": 2,
     "metadata": {},
     "output_type": "execute_result"
    }
   ],
   "source": [
    "matrix"
   ]
  },
  {
   "cell_type": "code",
   "execution_count": 3,
   "metadata": {},
   "outputs": [
    {
     "name": "stdout",
     "output_type": "stream",
     "text": [
      "12\n"
     ]
    }
   ],
   "source": [
    "from functools import reduce\n",
    "def sum(arr):\n",
    "    return int(reduce(lambda a,b: a + b, arr))\n",
    "def formingMagicSquare(s):\n",
    "    cost = 0\n",
    "    for row in s:\n",
    "        cost += abs(sum(row) - 15)\n",
    "    return cost\n",
    "print(formingMagicSquare(matrix))"
   ]
  },
  {
   "cell_type": "code",
   "execution_count": 18,
   "metadata": {},
   "outputs": [],
   "source": [
    "string = \"AABCAAADAA\"\n",
    "k = 2\n",
    "ti = [string[i*k:(i+1)*k] for i in range(len(string)//k)]"
   ]
  },
  {
   "cell_type": "code",
   "execution_count": 20,
   "metadata": {},
   "outputs": [],
   "source": [
    "string = \"AABCAAADAA\"\n",
    "k = 2\n",
    "ti = []\n",
    "for i in range(len(string)//k):\n",
    "    ti.append(string[i*k:(i+1)*k])"
   ]
  },
  {
   "cell_type": "code",
   "execution_count": 21,
   "metadata": {},
   "outputs": [
    {
     "data": {
      "text/plain": [
       "['AA', 'BC', 'AA', 'AD', 'AA']"
      ]
     },
     "execution_count": 21,
     "metadata": {},
     "output_type": "execute_result"
    }
   ],
   "source": [
    "ti"
   ]
  },
  {
   "cell_type": "code",
   "execution_count": 28,
   "metadata": {},
   "outputs": [
    {
     "data": {
      "text/plain": [
       "['A', 'BC', 'A', 'AD', 'A']"
      ]
     },
     "execution_count": 28,
     "metadata": {},
     "output_type": "execute_result"
    }
   ],
   "source": [
    "ui = []\n",
    "for i in ti:\n",
    "    uii = \"\"\n",
    "    for j in i:\n",
    "        if j not in uii:\n",
    "            uii += j\n",
    "    ui.append(uii)\n",
    "ui"
   ]
  },
  {
   "cell_type": "code",
   "execution_count": 29,
   "metadata": {},
   "outputs": [
    {
     "name": "stdout",
     "output_type": "stream",
     "text": [
      "AABCAAADA\n",
      "3\n",
      "AB\n",
      "CA\n",
      "AD\n"
     ]
    }
   ],
   "source": [
    "string,length = input(),int(input())\n",
    "def merge_the_tools(string, k):\n",
    "    ti = [string[i*k:(i+1)*k] for i in range(len(string)//k)]\n",
    "    for i in ti:\n",
    "        uii = \"\"\n",
    "        for j in i:\n",
    "            if j not in uii:\n",
    "                uii += j\n",
    "        print(uii)\n",
    "merge_the_tools(string,length)"
   ]
  },
  {
   "cell_type": "code",
   "execution_count": null,
   "metadata": {},
   "outputs": [],
   "source": [
    "s = input()"
   ]
  },
  {
   "cell_type": "code",
   "execution_count": 52,
   "metadata": {},
   "outputs": [],
   "source": [
    "s = \"google\"\n",
    "counts = sorted([s.count(letter) for letter in set(s)])\n",
    "s = sorted(set(s))"
   ]
  },
  {
   "cell_type": "code",
   "execution_count": 54,
   "metadata": {},
   "outputs": [
    {
     "data": {
      "text/plain": [
       "[2, 2, 1, 1]"
      ]
     },
     "execution_count": 54,
     "metadata": {},
     "output_type": "execute_result"
    }
   ],
   "source": [
    "counts.reverse()\n",
    "counts\n",
    "for i in range(3):\n",
    "    "
   ]
  },
  {
   "cell_type": "code",
   "execution_count": null,
   "metadata": {},
   "outputs": [],
   "source": []
  }
 ],
 "metadata": {
  "kernelspec": {
   "display_name": "Python 3",
   "language": "python",
   "name": "python3"
  },
  "language_info": {
   "codemirror_mode": {
    "name": "ipython",
    "version": 3
   },
   "file_extension": ".py",
   "mimetype": "text/x-python",
   "name": "python",
   "nbconvert_exporter": "python",
   "pygments_lexer": "ipython3",
   "version": "3.8.5"
  }
 },
 "nbformat": 4,
 "nbformat_minor": 4
}
