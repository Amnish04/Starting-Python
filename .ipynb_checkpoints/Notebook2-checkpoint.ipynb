{
 "cells": [
  {
   "cell_type": "code",
   "execution_count": 65,
   "metadata": {},
   "outputs": [
    {
     "name": "stdout",
     "output_type": "stream",
     "text": [
      "Overwriting myfile.txt\n"
     ]
    }
   ],
   "source": [
    "%%writefile myfile.txt\n",
    "\n",
    "This is an experment file.\n",
    "As you can see, I am writing Bullshit.\n",
    "So, bear with me.\n",
    "\n"
   ]
  },
  {
   "cell_type": "code",
   "execution_count": 64,
   "metadata": {},
   "outputs": [],
   "source": [
    "myfile = open('myfile.txt')\n"
   ]
  },
  {
   "cell_type": "code",
   "execution_count": 66,
   "metadata": {},
   "outputs": [
    {
     "name": "stdout",
     "output_type": "stream",
     "text": [
      "As you can see, I am writing Bullshit.\n",
      "\n"
     ]
    }
   ],
   "source": [
    "myfile.seek(2)  #seeking the cursor back to the desired index location.\n",
    "print(myfile.readlines()[1])"
   ]
  },
  {
   "cell_type": "code",
   "execution_count": 50,
   "metadata": {},
   "outputs": [
    {
     "name": "stdout",
     "output_type": "stream",
     "text": [
      "As you can see, I am writing Bullshit.\n",
      "\n"
     ]
    }
   ],
   "source": [
    "myfile.seek(2)\n",
    "x = myfile.readlines() #Readlines is gonna show you all the separate lines\n",
    "                       #in the from of a list as opposed to the strings in read(),\n",
    "                       #Giving you an advantage of indexing and slicing\n",
    "print(x[1])"
   ]
  },
  {
   "cell_type": "code",
   "execution_count": 86,
   "metadata": {},
   "outputs": [
    {
     "data": {
      "text/plain": [
       "'\\nThis is an experment file.\\nAs you can see, I am writing Bullshit.\\nSo, bear with me.\\n\\n'"
      ]
     },
     "execution_count": 86,
     "metadata": {},
     "output_type": "execute_result"
    }
   ],
   "source": [
    "with open('myfile.txt') as my_filey:\n",
    "    x = my_filey.read()\n",
    "x    "
   ]
  },
  {
   "cell_type": "code",
   "execution_count": 81,
   "metadata": {},
   "outputs": [
    {
     "data": {
      "text/plain": [
       "['\\n',\n",
       " 'This is an experment file.\\n',\n",
       " 'As you can see, I am writing Bullshit.\\n',\n",
       " 'So, bear with me.\\n',\n",
       " '\\n']"
      ]
     },
     "execution_count": 81,
     "metadata": {},
     "output_type": "execute_result"
    }
   ],
   "source": [
    "myfile.close()\n",
    "open('myfile.txt').seek(0)\n",
    "open('myfile.txt').readlines()\n"
   ]
  },
  {
   "cell_type": "code",
   "execution_count": 36,
   "metadata": {},
   "outputs": [
    {
     "data": {
      "text/plain": [
       "'C:\\\\Users\\\\Amnish Singh\\\\Starting Python'"
      ]
     },
     "execution_count": 36,
     "metadata": {},
     "output_type": "execute_result"
    }
   ],
   "source": [
    "pwd"
   ]
  },
  {
   "cell_type": "code",
   "execution_count": 22,
   "metadata": {},
   "outputs": [
    {
     "name": "stdout",
     "output_type": "stream",
     "text": [
      "{2, 3, 8, 9, 10}\n"
     ]
    }
   ],
   "source": [
    "listy= [8,9,10]\n",
    "__set= set(listy)\n",
    "__set.add(3)\n",
    "__set.add(2)\n",
    "print(__set)"
   ]
  },
  {
   "cell_type": "code",
   "execution_count": 16,
   "metadata": {},
   "outputs": [
    {
     "name": "stdout",
     "output_type": "stream",
     "text": [
      "<class 'NoneType'>\n",
      "[1, 2, 3]\n",
      "{2, 3, 4}\n"
     ]
    }
   ],
   "source": [
    "List= [1,3,2]\n",
    "List.sort()\n",
    "print(type(List.sort()))\n",
    "print(List)\n",
    "Tuple= (3,2,4)\n",
    "_set= set(Tuple)\n",
    "print(_set)\n",
    "#sets are sorted but not ordered(which means you can' use indexing or slicing)"
   ]
  },
  {
   "cell_type": "code",
   "execution_count": 2,
   "metadata": {},
   "outputs": [
    {
     "name": "stdout",
     "output_type": "stream",
     "text": [
      "GO\n",
      "19.0\n",
      "\n",
      "19.0\n"
     ]
    }
   ],
   "source": [
    "dicktionary= {'Mr.India':[19.00,'Mini Militia','CSGO','Pubgm','Call Of Duty Mobile','Fortnite'],\n",
    "              'Sharmasaab':[18,'Mini Militia','Call Of Duty Mobile','Fortnite'],'LadduPaaaji':[18,'Fortnite','Valorant']}\n",
    "print(dicktionary['Mr.India'][2][2:])\n",
    "print(\"{r:1.1f}\\n\".format(r= dicktionary['Mr.India'][0]))\n",
    "#or\n",
    "r= dicktionary['Mr.India'][0]\n",
    "print(f\"{r:1.1f}\")"
   ]
  },
  {
   "cell_type": "code",
   "execution_count": 4,
   "metadata": {},
   "outputs": [
    {
     "name": "stdout",
     "output_type": "stream",
     "text": [
      "{'Mr.India': [19.0, 'Mini Militia', 'CSGO', 'Pubgm', 'Call Of Duty Mobile', 'Fortnite'], 'Sharmasaab': [18, 'Mini Militia', 'Call Of Duty Mobile', 'Fortnite'], 'LadduPaaaji': [18, 'Fortnite', 'Valorant'], 'NewGuy': 'Fortnite'}\n",
      "{'Mr.India': [19.0, 'Mini Militia', 'CSGO', 'Pubgm', 'Call Of Duty Mobile', 'Fortnite'], 'Sharmasaab': [18, 'Mini Militia', 'Call Of Duty Mobile', 'Fortnite'], 'LadduPaaaji': [18, 'Fortnite', 'Valorant'], 'NewGuy': 'Only Fortnite Kid'}\n"
     ]
    }
   ],
   "source": [
    "dicktionary['NewGuy']= 'Fortnite'\n",
    "print(dicktionary)\n",
    "dicktionary['NewGuy']= 'Only Fortnite Kid'\n",
    "print(dicktionary)\n"
   ]
  },
  {
   "cell_type": "code",
   "execution_count": 7,
   "metadata": {},
   "outputs": [
    {
     "name": "stdout",
     "output_type": "stream",
     "text": [
      "mami\n"
     ]
    }
   ],
   "source": [
    "My_list = [1 , 2, 3, ['your', 'mami', 'your', 'papi'], 4, 5]\n",
    "print(My_list[3][1])\n"
   ]
  },
  {
   "cell_type": "code",
   "execution_count": 11,
   "metadata": {},
   "outputs": [],
   "source": [
    "my_list=[1,2,[1,2,3]]"
   ]
  },
  {
   "cell_type": "code",
   "execution_count": 12,
   "metadata": {},
   "outputs": [
    {
     "data": {
      "text/plain": [
       "3"
      ]
     },
     "execution_count": 12,
     "metadata": {},
     "output_type": "execute_result"
    }
   ],
   "source": [
    "my_list[2][2]"
   ]
  },
  {
   "cell_type": "code",
   "execution_count": 13,
   "metadata": {},
   "outputs": [
    {
     "name": "stdout",
     "output_type": "stream",
     "text": [
      "[1, 2, 3]\n"
     ]
    }
   ],
   "source": [
    "a= my_list\n",
    "sub_list= a[2]\n",
    "print(sub_list)"
   ]
  },
  {
   "cell_type": "code",
   "execution_count": 14,
   "metadata": {},
   "outputs": [
    {
     "name": "stdout",
     "output_type": "stream",
     "text": [
      "[2, 3, 4]\n"
     ]
    }
   ],
   "source": [
    "sub_list.append(4)\n",
    "sub_list.pop(0)\n",
    "print(sub_list)"
   ]
  },
  {
   "cell_type": "code",
   "execution_count": 1,
   "metadata": {},
   "outputs": [
    {
     "name": "stdout",
     "output_type": "stream",
     "text": [
      "[2, 3, 4]\n"
     ]
    }
   ],
   "source": [
    "my_list=[1,2,[1,2,3]]\n",
    "a= my_list\n",
    "sub_list= a[2]\n",
    "sub_list.append(4)\n",
    "sub_list.pop(0)\n",
    "print(sub_list)"
   ]
  }
 ],
 "metadata": {
  "kernelspec": {
   "display_name": "Python 3",
   "language": "python",
   "name": "python3"
  },
  "language_info": {
   "codemirror_mode": {
    "name": "ipython",
    "version": 3
   },
   "file_extension": ".py",
   "mimetype": "text/x-python",
   "name": "python",
   "nbconvert_exporter": "python",
   "pygments_lexer": "ipython3",
   "version": "3.8.5"
  }
 },
 "nbformat": 4,
 "nbformat_minor": 4
}
