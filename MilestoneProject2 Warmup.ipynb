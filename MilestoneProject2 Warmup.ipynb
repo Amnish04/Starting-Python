{
 "cells": [
  {
   "cell_type": "markdown",
   "metadata": {},
   "source": [
    "# MilestoneProject2 Warmup"
   ]
  },
  {
   "cell_type": "code",
   "execution_count": 4,
   "metadata": {},
   "outputs": [],
   "source": [
    "from random import shuffle\n",
    "suits = (\"Hearts\",\"Clubs\",\"Spades\",\"Diamonds\")\n",
    "values = {\"Two\":2,\"Three\":3,\"Four\":4,\"Five\":5,\"Six\":6,\"Seven\":7,\"Eight\":8,\"Nine\":9,\"Ten\":10,\"Jack\":11,\"Queen\":12,\"King\":13,\"Ace\":14}\n",
    "ranks = values.keys()\n",
    "class Card:\n",
    "    ''' Blueprint of a card'''\n",
    "\n",
    "    def __init__(self,suit,rank):\n",
    "        self.suit = suit\n",
    "        self.rank = rank\n",
    "        self.value = values[rank]\n",
    "\n",
    "    def __str__(self):\n",
    "        return self.rank + \" of \" + self.suit\n",
    "#ace_hearts = Card(\"Hearts\",\"Ace\")\n",
    "#print(ace_hearts,\"has value of\",ace_hearts.value)\n",
    "class Deck:\n",
    "    '''A Deck of Cards'''\n",
    "    def __init__(self):\n",
    "        self.cards = [Card(suit,rank) for rank in ranks for suit in suits]\n",
    "    def shuffle(self):\n",
    "        shuffle(self.cards)\n",
    "    def deal_card(self):\n",
    "        return self.cards.pop()\n",
    "    def __str__(self):\n",
    "        return str(len(self.cards)) + \" cards\"\n",
    "    def __len__(self):\n",
    "        return len(self.cards)\n"
   ]
  },
  {
   "cell_type": "code",
   "execution_count": 21,
   "metadata": {},
   "outputs": [],
   "source": [
    "game_deck = Deck()"
   ]
  },
  {
   "cell_type": "code",
   "execution_count": null,
   "metadata": {},
   "outputs": [],
   "source": []
  },
  {
   "cell_type": "code",
   "execution_count": null,
   "metadata": {},
   "outputs": [],
   "source": []
  },
  {
   "cell_type": "code",
   "execution_count": null,
   "metadata": {},
   "outputs": [],
   "source": []
  },
  {
   "cell_type": "code",
   "execution_count": null,
   "metadata": {},
   "outputs": [],
   "source": []
  },
  {
   "cell_type": "code",
   "execution_count": null,
   "metadata": {},
   "outputs": [],
   "source": []
  },
  {
   "cell_type": "code",
   "execution_count": 35,
   "metadata": {},
   "outputs": [
    {
     "name": "stdout",
     "output_type": "stream",
     "text": [
      "Enter Your name 'player1':\n",
      "a\n",
      "Enter Your name 'player2':\n",
      "j\n"
     ]
    },
    {
     "ename": "UnboundLocalError",
     "evalue": "local variable '_' referenced before assignment",
     "output_type": "error",
     "traceback": [
      "\u001b[1;31m---------------------------------------------------------------------------\u001b[0m",
      "\u001b[1;31mUnboundLocalError\u001b[0m                         Traceback (most recent call last)",
      "\u001b[1;32m<ipython-input-35-edbe73b8063e>\u001b[0m in \u001b[0;36m<module>\u001b[1;34m\u001b[0m\n\u001b[0;32m     67\u001b[0m \u001b[1;32mfor\u001b[0m \u001b[0mi\u001b[0m \u001b[1;32min\u001b[0m \u001b[0mrange\u001b[0m\u001b[1;33m(\u001b[0m\u001b[0mlen\u001b[0m\u001b[1;33m(\u001b[0m\u001b[0mgame_deck\u001b[0m\u001b[1;33m)\u001b[0m\u001b[1;33m)\u001b[0m\u001b[1;33m:\u001b[0m\u001b[1;33m\u001b[0m\u001b[1;33m\u001b[0m\u001b[0m\n\u001b[0;32m     68\u001b[0m     \u001b[1;32mif\u001b[0m \u001b[0mi\u001b[0m \u001b[1;33m%\u001b[0m \u001b[1;36m2\u001b[0m \u001b[1;33m==\u001b[0m \u001b[1;36m0\u001b[0m\u001b[1;33m:\u001b[0m\u001b[1;33m\u001b[0m\u001b[1;33m\u001b[0m\u001b[0m\n\u001b[1;32m---> 69\u001b[1;33m         \u001b[0mplayer1\u001b[0m\u001b[1;33m.\u001b[0m\u001b[0mtake_cards\u001b[0m\u001b[1;33m(\u001b[0m\u001b[0mgame_deck\u001b[0m\u001b[1;33m.\u001b[0m\u001b[0mcards\u001b[0m\u001b[1;33m[\u001b[0m\u001b[0mi\u001b[0m\u001b[1;33m]\u001b[0m\u001b[1;33m,\u001b[0m\u001b[0mgame_deck\u001b[0m\u001b[1;33m)\u001b[0m\u001b[1;33m\u001b[0m\u001b[1;33m\u001b[0m\u001b[0m\n\u001b[0m\u001b[0;32m     70\u001b[0m     \u001b[1;32melse\u001b[0m\u001b[1;33m:\u001b[0m\u001b[1;33m\u001b[0m\u001b[1;33m\u001b[0m\u001b[0m\n\u001b[0;32m     71\u001b[0m         \u001b[0mplayer2\u001b[0m\u001b[1;33m.\u001b[0m\u001b[0mtake_cards\u001b[0m\u001b[1;33m(\u001b[0m\u001b[0mgame_deck\u001b[0m\u001b[1;33m.\u001b[0m\u001b[0mcards\u001b[0m\u001b[1;33m[\u001b[0m\u001b[0mi\u001b[0m\u001b[1;33m]\u001b[0m\u001b[1;33m,\u001b[0m\u001b[0mgame_deck\u001b[0m\u001b[1;33m)\u001b[0m\u001b[1;33m\u001b[0m\u001b[1;33m\u001b[0m\u001b[0m\n",
      "\u001b[1;32m<ipython-input-35-edbe73b8063e>\u001b[0m in \u001b[0;36mtake_cards\u001b[1;34m(self, won_cards, deck)\u001b[0m\n\u001b[0;32m     43\u001b[0m         \u001b[1;32melse\u001b[0m\u001b[1;33m:\u001b[0m\u001b[1;33m\u001b[0m\u001b[1;33m\u001b[0m\u001b[0m\n\u001b[0;32m     44\u001b[0m             \u001b[0mself\u001b[0m\u001b[1;33m.\u001b[0m\u001b[0mplayer_deck\u001b[0m\u001b[1;33m.\u001b[0m\u001b[0mappend\u001b[0m\u001b[1;33m(\u001b[0m\u001b[0mwon_cards\u001b[0m\u001b[1;33m)\u001b[0m\u001b[1;33m\u001b[0m\u001b[1;33m\u001b[0m\u001b[0m\n\u001b[1;32m---> 45\u001b[1;33m             \u001b[0mdeck\u001b[0m\u001b[1;33m.\u001b[0m\u001b[0mcards\u001b[0m\u001b[1;33m.\u001b[0m\u001b[0mremove\u001b[0m\u001b[1;33m(\u001b[0m\u001b[0mwon_cards\u001b[0m\u001b[1;33m[\u001b[0m\u001b[0m_\u001b[0m\u001b[1;33m]\u001b[0m\u001b[1;33m)\u001b[0m\u001b[1;33m\u001b[0m\u001b[1;33m\u001b[0m\u001b[0m\n\u001b[0m\u001b[0;32m     46\u001b[0m     \u001b[1;32mdef\u001b[0m \u001b[0m__str__\u001b[0m\u001b[1;33m(\u001b[0m\u001b[0mself\u001b[0m\u001b[1;33m)\u001b[0m\u001b[1;33m:\u001b[0m\u001b[1;33m\u001b[0m\u001b[1;33m\u001b[0m\u001b[0m\n\u001b[0;32m     47\u001b[0m         \u001b[1;32mreturn\u001b[0m \u001b[1;34mf\"{self.name} has {len(self.player_deck)} cards!\"\u001b[0m\u001b[1;33m\u001b[0m\u001b[1;33m\u001b[0m\u001b[0m\n",
      "\u001b[1;31mUnboundLocalError\u001b[0m: local variable '_' referenced before assignment"
     ]
    }
   ],
   "source": [
    "from random import shuffle\n",
    "suits = (\"Hearts\",\"Clubs\",\"Spades\",\"Diamonds\")\n",
    "values = {\"Two\":2,\"Three\":3,\"Four\":4,\"Five\":5,\"Six\":6,\"Seven\":7,\"Eight\":8,\"Nine\":9,\"Ten\":10,\"Jack\":11,\"Queen\":12,\"King\":13,\"Ace\":14}\n",
    "ranks = values.keys()\n",
    "class Card:\n",
    "    '''Blueprint of a card'''\n",
    "\n",
    "    def __init__(self, suit, rank):\n",
    "        self.suit = suit\n",
    "        self.rank = rank\n",
    "        self.value = values[rank]\n",
    "\n",
    "    def __str__(self):\n",
    "        return self.rank + \" of \" + self.suit\n",
    "#ace_hearts = Card(\"Hearts\",\"Ace\")\n",
    "#print(ace_hearts,\"has value of\",ace_hearts.value)\n",
    "class Deck:\n",
    "    '''A Deck of Cards'''\n",
    "    def __init__(self,suit,rank):\n",
    "        self.cards = [Card(suit,rank) for rank in ranks for suit in suits]\n",
    "\n",
    "    def shuffle(self):\n",
    "        shuffle(self.cards)\n",
    "    def __str__(self):\n",
    "        return str(len(self.cards)) + \" cards\"\n",
    "    def __len__(self):\n",
    "        return len(self.cards)\n",
    "\n",
    "class Player:\n",
    "    '''Player Blueprints '''\n",
    "\n",
    "    def __init__(self, name):\n",
    "        self.name = name\n",
    "        self.player_deck = []\n",
    "\n",
    "    def play_card(self):\n",
    "        return self.player_deck.pop(0)\n",
    "    def take_cards(self,won_cards,deck):\n",
    "        if type(won_cards) == list:\n",
    "            self.player_deck.extend(won_cards)\n",
    "            for _ in range(len(won_cards)):\n",
    "                deck.cards.remove(won_cards[_])\n",
    "        else:\n",
    "            self.player_deck.append(won_cards)\n",
    "            deck.cards.remove(won_cards[_])\n",
    "    def __str__(self):\n",
    "        return f\"{self.name} has {len(self.player_deck)} cards!\"\n",
    "\n",
    "class Table:\n",
    "\n",
    "    def __init__(self):\n",
    "        self.cards = []\n",
    "    def keep_cards(self,played_cards):\n",
    "        self.cards.extend(played_cards)\n",
    "    def return_cards(self,player):\n",
    "        player.player_deck.extend(self.cards)\n",
    "        self.cards = []\n",
    "    def __len__(self):\n",
    "        return len(table.cards)\n",
    "    def __str__(self):\n",
    "        pass\n",
    "\n",
    "game_deck = Deck(suits, ranks)\n",
    "game_deck.shuffle()\n",
    "player1 = Player(input(\"Enter Your name 'player1':\\n\"))\n",
    "player2 = Player(input(\"Enter Your name 'player2':\\n\"))\n",
    "for i in range(len(game_deck)):\n",
    "    if i % 2 == 0:\n",
    "        player1.take_cards(game_deck.cards[i],game_deck)\n",
    "    else:\n",
    "        player2.take_cards(game_deck.cards[i],game_deck)\n",
    "game_on = True\n",
    "table = Table()\n",
    "while game_on:\n",
    "    table.keep_cards([player1.play_card(),player2.play_card()])\n",
    "    for _ in range(len(table)):\n",
    "        pass\n",
    "    break\n"
   ]
  },
  {
   "cell_type": "code",
   "execution_count": 13,
   "metadata": {},
   "outputs": [
    {
     "name": "stdout",
     "output_type": "stream",
     "text": [
      "[<__main__.Card object at 0x00000278BBA03D00>, <__main__.Card object at 0x00000278BB9F2280>]\n"
     ]
    }
   ],
   "source": [
    "print(table.cards)"
   ]
  },
  {
   "cell_type": "code",
   "execution_count": 17,
   "metadata": {},
   "outputs": [
    {
     "name": "stdout",
     "output_type": "stream",
     "text": [
      "25 25\n"
     ]
    }
   ],
   "source": [
    "print(len(player1.player_deck),len(player2.player_deck))"
   ]
  },
  {
   "cell_type": "code",
   "execution_count": 31,
   "metadata": {},
   "outputs": [
    {
     "name": "stdout",
     "output_type": "stream",
     "text": [
      "['Ten of Spades', 'Two of Clubs']\n"
     ]
    }
   ],
   "source": [
    "print(list(map(str,table.cards)))"
   ]
  },
  {
   "cell_type": "code",
   "execution_count": 32,
   "metadata": {},
   "outputs": [],
   "source": [
    "li = [1,2,3,4]\n",
    "li.remove(1)"
   ]
  },
  {
   "cell_type": "code",
   "execution_count": 33,
   "metadata": {},
   "outputs": [
    {
     "data": {
      "text/plain": [
       "[2, 3, 4]"
      ]
     },
     "execution_count": 33,
     "metadata": {},
     "output_type": "execute_result"
    }
   ],
   "source": [
    "li"
   ]
  },
  {
   "cell_type": "code",
   "execution_count": null,
   "metadata": {},
   "outputs": [],
   "source": []
  },
  {
   "cell_type": "code",
   "execution_count": null,
   "metadata": {},
   "outputs": [],
   "source": []
  },
  {
   "cell_type": "code",
   "execution_count": null,
   "metadata": {},
   "outputs": [],
   "source": []
  },
  {
   "cell_type": "code",
   "execution_count": null,
   "metadata": {},
   "outputs": [],
   "source": []
  },
  {
   "cell_type": "code",
   "execution_count": null,
   "metadata": {},
   "outputs": [],
   "source": []
  }
 ],
 "metadata": {
  "kernelspec": {
   "display_name": "Python 3",
   "language": "python",
   "name": "python3"
  },
  "language_info": {
   "codemirror_mode": {
    "name": "ipython",
    "version": 3
   },
   "file_extension": ".py",
   "mimetype": "text/x-python",
   "name": "python",
   "nbconvert_exporter": "python",
   "pygments_lexer": "ipython3",
   "version": "3.8.5"
  }
 },
 "nbformat": 4,
 "nbformat_minor": 4
}
